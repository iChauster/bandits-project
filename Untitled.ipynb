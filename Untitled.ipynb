{
 "cells": [
  {
   "cell_type": "code",
   "execution_count": 10,
   "id": "8f0dd55b-c350-4837-b30c-26de0be84a75",
   "metadata": {},
   "outputs": [],
   "source": [
    "import pandas as pd\n",
    "import numpy as np\n",
    "\n",
    "def read_users():\n",
    "    users = set()\n",
    "    chunks = pd.read_json(\"./yelp_dataset/yelp_academic_dataset_user.json\", lines = True, chunksize = 3000)\n",
    "    for chunk in chunks:\n",
    "        users = users.union(set(chunk['user_id']))\n",
    "    return users        \n",
    "users = read_users()"
   ]
  },
  {
   "cell_type": "code",
   "execution_count": 103,
   "id": "54d4d637-b7e5-471d-b879-b6076b881824",
   "metadata": {},
   "outputs": [],
   "source": [
    "from collections import defaultdict\n",
    "from dateutil import parser\n",
    "\n",
    "def get_reviews():\n",
    "    review_map = defaultdict(list)\n",
    "    average_ratings = defaultdict(list)\n",
    "    chunks = pd.read_json(\"./yelp_dataset/yelp_academic_dataset_review.json\", lines = True, chunksize = 3000)\n",
    "    for chunk in chunks:\n",
    "        for index, row in chunk.iterrows():\n",
    "            bid = row[\"business_id\"]\n",
    "            review_map[row['user_id']].append((row[\"date\"], row[\"stars\"], bid))\n",
    "            average_ratings[bid].append(int(row[\"stars\"]))\n",
    "    final_average_ratings = {}\n",
    "    for b in average_ratings.keys():\n",
    "        final_average_ratings[b] = np.mean(average_ratings[b])\n",
    "    return final_average_ratings, review_map\n",
    "    \n",
    "final_average_ratings, review_map = get_reviews()"
   ]
  },
  {
   "cell_type": "code",
   "execution_count": 52,
   "id": "7265a46f-dca8-4407-89f7-579a93198d07",
   "metadata": {},
   "outputs": [],
   "source": [
    "def get_business_map():\n",
    "    business_map = {}\n",
    "    chunks = pd.read_json(\"./yelp_dataset/yelp_academic_dataset_business.json\", lines = True, chunksize = 3000)\n",
    "    for chunk in chunks:\n",
    "        for index, row in chunk.iterrows():\n",
    "            business_map[row[\"business_id\"]] = row\n",
    "    return business_map\n",
    "business_map = get_business_map()"
   ]
  },
  {
   "cell_type": "code",
   "execution_count": 104,
   "id": "e5ad6c9b-141f-4fed-b022-fb026ccdd0eb",
   "metadata": {},
   "outputs": [],
   "source": [
    "import pickle\n",
    "\n",
    "def dump_var(var, filename):\n",
    "    with open(filename, \"wb\") as f:\n",
    "        pickle.dump(var, f)\n",
    "\n",
    "dump_var(review_map, \"review_map.pkl\")\n",
    "# dump_var(business_map, \"business_map.pkl\")\n",
    "dump_var(final_average_ratings, \"final_average_ratings.pkl\")"
   ]
  },
  {
   "cell_type": "code",
   "execution_count": 110,
   "id": "cd315cc7-64c7-46ea-abf1-8ff852d6ac5f",
   "metadata": {},
   "outputs": [
    {
     "data": {
      "image/png": "[encoded data removed]",
      "text/plain": [
       "<Figure size 432x288 with 1 Axes>"
      ]
     },
     "metadata": {
      "needs_background": "light"
     },
     "output_type": "display_data"
    }
   ],
   "source": [
    "import matplotlib.pyplot as plt\n",
    "n = []\n",
    "for key, value in review_map.items():\n",
    "    n.append(len(value))\n",
    "plt.hist(n, range = (0, 50))\n",
    "plt.show()"
   ]
  },
  {
   "cell_type": "code",
   "execution_count": 111,
   "id": "ac149a52-cc63-4173-a67b-868df949b02d",
   "metadata": {},
   "outputs": [
    {
     "name": "stdout",
     "output_type": "stream",
     "text": [
      "3398408913621736\n"
     ]
    }
   ],
   "source": [
    "print(len(business_map) ** 3)"
   ]
  },
  {
   "cell_type": "code",
   "execution_count": 112,
   "id": "1b944eb0-dbce-49f5-9a42-58a53e0f6e0c",
   "metadata": {},
   "outputs": [],
   "source": [
    "state_generator = lambda s : (s[0][-1], s[1][-1], s[2][-1])\n",
    "state_distribution = defaultdict(int)\n",
    "\n",
    "total = 0\n",
    "for k, v in review_map.items():\n",
    "    if len(v) < 3:\n",
    "        continue\n",
    "    v.sort()\n",
    "    for i in range(len(v) - 2):\n",
    "        s = state_generator(v[i: i + 3])\n",
    "        total += 1\n",
    "        state_distribution[s] += 1\n",
    "for k in state_distribution.keys():\n",
    "    state_distribution[k] = state_distribution[k] / total"
   ]
  },
  {
   "cell_type": "code",
   "execution_count": 113,
   "id": "62c0a58e-38eb-445f-a304-5482f4af7690",
   "metadata": {},
   "outputs": [
    {
     "data": {
      "text/plain": [
       "4144459"
      ]
     },
     "execution_count": 113,
     "metadata": {},
     "output_type": "execute_result"
    }
   ],
   "source": [
    "len(state_distribution)"
   ]
  },
  {
   "cell_type": "code",
   "execution_count": 114,
   "id": "bdeb0f77-c081-4ac3-82e7-8641f42cd724",
   "metadata": {},
   "outputs": [],
   "source": [
    "def normalize_rewards(actions):\n",
    "    # return some function between [0,1]\n",
    "    s = [int(a[1]) for a in actions]\n",
    "    rating = np.array(s) * np.array([0.1, 0.2, 0.7])\n",
    "    return rating / 5\n",
    "\n",
    "def create_reward_map(review_map):\n",
    "        rewards = defaultdict(list)\n",
    "        for k, v in review_map.items():\n",
    "            if len(v) < 3:\n",
    "                continue\n",
    "            v.sort()\n",
    "            for i in range(len(v) - 2):\n",
    "                seq = v[i : i + 3]\n",
    "                s = state_generator(seq)\n",
    "                rewards[s].append(normalize_rewards(seq))\n",
    "        return rewards\n",
    "rwf = create_reward_map(review_map)"
   ]
  },
  {
   "cell_type": "code",
   "execution_count": 115,
   "id": "e3491c9b-0378-4625-9af2-ffca43e10715",
   "metadata": {},
   "outputs": [],
   "source": [
    "dump_var(rwf, \"reward_map.pkl\")"
   ]
  },
  {
   "cell_type": "code",
   "execution_count": 96,
   "id": "e7d2d917-b1cc-4ad3-a08e-306bc3ec79d5",
   "metadata": {},
   "outputs": [],
   "source": [
    "def create_transition_function(state, action):\n",
    "        return (1,(state[0], state[1], action))"
   ]
  },
  {
   "cell_type": "code",
   "execution_count": 137,
   "id": "30e2a354-71df-49c9-8c6b-e891141a85ef",
   "metadata": {},
   "outputs": [],
   "source": [
    "class MDP:\n",
    "    def __init__(self, reward_map, transition_function, actlist, states, gamma = 0.9):\n",
    "        self.reward_map = reward_map\n",
    "        self.transition_function = transition_function\n",
    "        self.actlist = actlist\n",
    "        self.states = states\n",
    "        self.gamma = gamma\n",
    "        \n",
    "    def actions(self, state):\n",
    "        return self.actlist\n",
    "        \n",
    "    def T(self, state, action):\n",
    "        return create_transition_function(state, action)\n",
    "    def R(self, state):\n",
    "        if state not in self.reward_map:\n",
    "            return numpy.array([final_average_ratings[s[1]] for s in state]) * numpy.array([0.1, 0.2, 0.7])\n",
    "        else:\n",
    "            return self.reward_map[state]"
   ]
  },
  {
   "cell_type": "code",
   "execution_count": 138,
   "id": "68c9eb45-f038-4f5c-8346-13f46a79b64a",
   "metadata": {},
   "outputs": [],
   "source": [
    "import random\n",
    "def value_iteration(mdp, epsilon=0.001):\n",
    "    \"Solving an MDP by value iteration. [Fig. 17.4]\"\n",
    "    U1 = dict([(s, 0) for s in mdp.states])\n",
    "    R, T, gamma = mdp.R, mdp.T, mdp.gamma\n",
    "    while True:\n",
    "        U = U1.copy()\n",
    "        delta = 0\n",
    "        for s in mdp.states:\n",
    "            U1[s] = R(s) + gamma * max([sum([p * U[s1] for (p, s1) in T(s, a)])\n",
    "                                        for a in mdp.actions(s)])\n",
    "            delta = max(delta, abs(U1[s] - U[s]))\n",
    "        if delta < epsilon * (1 - gamma) / gamma:\n",
    "             return U\n",
    "\n",
    "def best_policy(mdp, U):\n",
    "    \"\"\"Given an MDP and a utility function U, determine the best policy,\n",
    "    as a mapping from state to action. (Equation 17.4)\"\"\"\n",
    "    pi = {}\n",
    "    for s in mdp.states:\n",
    "        pi[s] = argmax(mdp.actions(s), lambda a:expected_utility(a, s, U, mdp))\n",
    "    return pi\n",
    "\n",
    "def expected_utility(a, s, U, mdp):\n",
    "    \"The expected utility of doing a in state s, according to the MDP and U.\"\n",
    "    return sum([p * U[s1] for (p, s1) in mdp.T(s, a)])\n",
    "\n",
    "\n",
    "def policy_iteration(mdp):\n",
    "    \"Solve an MDP by policy iteration [Fig. 17.7]\"\n",
    "    U = dict([(s, 0) for s in mdp.states])\n",
    "    pi = dict([(s, random.choice(mdp.actions(s))) for s in mdp.states])\n",
    "    while True:\n",
    "        U = policy_evaluation(pi, U, mdp)\n",
    "        unchanged = True\n",
    "        for s in mdp.states:\n",
    "            a = argmax(mdp.actions(s), lambda a: expected_utility(a,s,U,mdp))\n",
    "            if a != pi[s]:\n",
    "                pi[s] = a\n",
    "                unchanged = False\n",
    "        print(pi)\n",
    "        if unchanged:\n",
    "            return pi\n",
    "\n",
    "def policy_evaluation(pi, U, mdp, k=20):\n",
    "    \"\"\"Return an updated utility mapping U from each state in the MDP to its\n",
    "    utility, using an approximation (modified policy iteration).\"\"\"\n",
    "    R, T, gamma = mdp.R, mdp.T, mdp.gamma\n",
    "    for i in range(k):\n",
    "        for s in mdp.states:\n",
    "            U[s] = R(s) + gamma * sum([p * U[s] for (p, s1) in T(s, pi[s])])\n",
    "    return U\n"
   ]
  },
  {
   "cell_type": "code",
   "execution_count": null,
   "id": "1a7bae2c-2d5c-4b1d-964a-2e6614585abc",
   "metadata": {},
   "outputs": [],
   "source": []
  }
 ],
 "metadata": {
  "kernelspec": {
   "display_name": "recproj",
   "language": "python",
   "name": "recproj"
  },
  "language_info": {
   "codemirror_mode": {
    "name": "ipython",
    "version": 3
   },
   "file_extension": ".py",
   "mimetype": "text/x-python",
   "name": "python",
   "nbconvert_exporter": "python",
   "pygments_lexer": "ipython3",
   "version": "3.9.1"
  }
 },
 "nbformat": 4,
 "nbformat_minor": 5
}
