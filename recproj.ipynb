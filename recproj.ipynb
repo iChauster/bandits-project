{
 "cells": [
  {
   "cell_type": "markdown",
   "id": "a8ab01d8-8a1b-460a-8b22-9a674243c3c1",
   "metadata": {},
   "source": [
    "# Data Loading"
   ]
  },
  {
   "cell_type": "code",
   "execution_count": 48,
   "id": "b17b91e6-3bf6-4ad3-a339-b01bc6aa126f",
   "metadata": {},
   "outputs": [],
   "source": [
    "import pandas as pd\n",
    "import numpy as np\n",
    "from matplotlib import pyplot as plt"
   ]
  },
  {
   "cell_type": "code",
   "execution_count": 176,
   "id": "8f0dd55b-c350-4837-b30c-26de0be84a75",
   "metadata": {},
   "outputs": [],
   "source": [
    "def read_users():\n",
    "    users = {}\n",
    "    chunks = pd.read_json(\"./yelp_dataset/yelp_academic_dataset_user.json\", lines = True, chunksize = 10000)\n",
    "    for chunk in chunks:\n",
    "        for index, row in chunk.iterrows():\n",
    "            users[row['user_id']] = row\n",
    "    return users        \n",
    "users = read_users()"
   ]
  },
  {
   "cell_type": "code",
   "execution_count": 103,
   "id": "54d4d637-b7e5-471d-b879-b6076b881824",
   "metadata": {},
   "outputs": [],
   "source": [
    "from collections import defaultdict\n",
    "from dateutil import parser\n",
    "\n",
    "def get_reviews():\n",
    "    review_map = defaultdict(list)\n",
    "    average_ratings = defaultdict(list)\n",
    "    chunks = pd.read_json(\"./yelp_dataset/yelp_academic_dataset_review.json\", lines = True, chunksize = 3000)\n",
    "    for chunk in chunks:\n",
    "        for index, row in chunk.iterrows():\n",
    "            bid = row[\"business_id\"]\n",
    "            review_map[row['user_id']].append((row[\"date\"], row[\"stars\"], bid))\n",
    "            average_ratings[bid].append(int(row[\"stars\"]))\n",
    "    final_average_ratings = {}\n",
    "    for b in average_ratings.keys():\n",
    "        final_average_ratings[b] = np.mean(average_ratings[b])\n",
    "    return final_average_ratings, review_map\n",
    "    \n",
    "final_average_ratings, review_map = get_reviews()"
   ]
  },
  {
   "cell_type": "code",
   "execution_count": 52,
   "id": "7265a46f-dca8-4407-89f7-579a93198d07",
   "metadata": {},
   "outputs": [],
   "source": [
    "def get_business_map():\n",
    "    business_map = {}\n",
    "    chunks = pd.read_json(\"./yelp_dataset/yelp_academic_dataset_business.json\", lines = True, chunksize = 3000)\n",
    "    for chunk in chunks:\n",
    "        for index, row in chunk.iterrows():\n",
    "            business_map[row[\"business_id\"]] = row\n",
    "    return business_map\n",
    "business_map = get_business_map()"
   ]
  },
  {
   "cell_type": "code",
   "execution_count": 207,
   "id": "b9bc293e-6a4c-4c6a-accf-6a8681ba7183",
   "metadata": {},
   "outputs": [],
   "source": [
    "def get_ca_bids():\n",
    "    ca_bids = []\n",
    "    chunks = pd.read_json(\"./yelp_dataset/yelp_academic_dataset_business.json\", lines = True, chunksize = 3000)\n",
    "    for chunk in chunks:\n",
    "        rows = chunk.loc[chunk['state'] == \"CA\"]\n",
    "        ca_bids.extend(rows[\"business_id\"])        \n",
    "    return ca_bids\n",
    "ca_bids = get_ca_bids()"
   ]
  },
  {
   "cell_type": "code",
   "execution_count": 67,
   "id": "2812ddcb-63d2-4786-a6b5-9eff0fde9de2",
   "metadata": {},
   "outputs": [],
   "source": [
    "from sklearn.preprocessing import OneHotEncoder\n",
    "\n",
    "def generate_category_encoder_input(categories):\n",
    "    array = [\"\"] * 5\n",
    "    try:\n",
    "        a = categories.split(', ')\n",
    "        for i in range(min(5, len(a))):\n",
    "            array[i] = a[i]\n",
    "    except AttributeError:\n",
    "        pass\n",
    "    return array\n",
    "\n",
    "def get_category_encoder():\n",
    "    chunks = pd.read_json(\"./yelp_dataset/yelp_academic_dataset_business.json\", lines = True, chunksize = 10000)\n",
    "    ohv_training = []\n",
    "    for chunk in chunks:\n",
    "        for index, row in chunk.iterrows():\n",
    "            array = generate_category_encoder_input(row[\"categories\"])\n",
    "            ohv_training.append(array)\n",
    "    enc = OneHotEncoder(handle_unknown=\"ignore\")\n",
    "    enc.fit(ohv_training)\n",
    "    return enc\n",
    "\n",
    "def get_event_embedding(bid, category_encoder):\n",
    "    business = business_map[bid] \n",
    "    picked_features = np.array([business[\"stars\"], business[\"review_count\"], business[\"is_open\"]])\n",
    "    o = generate_category_encoder_input(business[\"categories\"])\n",
    "    category_features = category_encoder.transform([o]).A[0]\n",
    "    return np.concatenate((picked_features, category_features))\n",
    "        \n",
    "def generate_user_history_embedding(uid, category_encoder, decay = False, **args):\n",
    "    reviews = review_map[uid]\n",
    "    dim = category_encoder.transform([[\"\"] * 5]).shape[1]\n",
    "    if len(reviews) == 0:\n",
    "        return np.zeros(3 + dim)\n",
    "    start = np.zeros(3 + dim)\n",
    "    n_reviews = len(review_map[uid])\n",
    "    for review_date, stars, bid in review_map[uid]:\n",
    "        emb_value = get_event_embedding(bid, category_encoder) * (stars - 3)\n",
    "        if not decay:\n",
    "            start += 1/n_reviews * emb_value\n",
    "        else:\n",
    "            start *= args[\"args\"][\"decay_factor\"]\n",
    "            start += emb_value\n",
    "    return start"
   ]
  },
  {
   "cell_type": "code",
   "execution_count": null,
   "id": "38867001-8c6d-4861-81c7-ce2a08e0a2b3",
   "metadata": {},
   "outputs": [],
   "source": [
    "user_history_cache = {}\n",
    "user_history_decay_cache = {}"
   ]
  },
  {
   "cell_type": "code",
   "execution_count": 5,
   "id": "770dc9d7-d0d3-4330-8bfd-f01a161d3110",
   "metadata": {},
   "outputs": [],
   "source": [
    "enc = get_category_encoder()"
   ]
  },
  {
   "cell_type": "code",
   "execution_count": 16,
   "id": "e5ad6c9b-141f-4fed-b022-fb026ccdd0eb",
   "metadata": {},
   "outputs": [],
   "source": [
    "import pickle\n",
    "\n",
    "def dump_var(var, filename):\n",
    "    with open(filename, \"wb\") as f:\n",
    "        pickle.dump(var, f)\n",
    "\n",
    "def load_var(filename):\n",
    "    with open(filename, \"rb\") as f:\n",
    "        return pickle.load(f)"
   ]
  },
  {
   "cell_type": "code",
   "execution_count": 177,
   "id": "a78d8fb6-2c4a-4588-9ee8-c7bb187b4f3d",
   "metadata": {},
   "outputs": [],
   "source": [
    "dump_var(review_map, \"review_map.pkl\")\n",
    "dump_var(business_map, \"business_map.pkl\")\n",
    "dump_var(final_average_ratings, \"final_average_ratings.pkl\")\n",
    "dump_var(users, \"user_map.pkl\")"
   ]
  },
  {
   "cell_type": "code",
   "execution_count": 22,
   "id": "5628e2bf-7ea1-4263-aef3-96711abd9b1b",
   "metadata": {},
   "outputs": [],
   "source": [
    "users = load_var(\"user_map.pkl\")\n",
    "business_map = load_var(\"business_map.pkl\")"
   ]
  },
  {
   "cell_type": "code",
   "execution_count": null,
   "id": "70210e5f-da06-4d44-a963-00ae0adbd4bf",
   "metadata": {},
   "outputs": [],
   "source": [
    "review_map = load_var(\"review_map.pkl\")"
   ]
  },
  {
   "cell_type": "markdown",
   "id": "87beabeb-e6fc-4ebf-acda-75e9ccc19efc",
   "metadata": {},
   "source": [
    "## Dataset Analysis"
   ]
  },
  {
   "cell_type": "code",
   "execution_count": 287,
   "id": "cd315cc7-64c7-46ea-abf1-8ff852d6ac5f",
   "metadata": {},
   "outputs": [
    {
     "name": "stderr",
     "output_type": "stream",
     "text": [
      "/var/folders/qk/l24kr0vd3w1ccfx8ng5tp3l00000gr/T/ipykernel_9693/478392250.py:10: UserWarning: Matplotlib is currently using module://matplotlib_inline.backend_inline, which is a non-GUI backend, so cannot show the figure.\n",
      "  fig.show()\n"
     ]
    },
    {
     "data": {
      "image/png": "[encoded data removed]",
      "text/plain": [
       "<Figure size 720x360 with 1 Axes>"
      ]
     },
     "metadata": {
      "needs_background": "light"
     },
     "output_type": "display_data"
    }
   ],
   "source": [
    "import matplotlib.pyplot as plt\n",
    "n = []\n",
    "fig, ax = plt.subplots(figsize = (10 ,5))\n",
    "for key, value in review_map.items():\n",
    "    n.append(len(value))\n",
    "ax.hist(n, range = (3, 50))\n",
    "ax.set_title(\"Histogram of # of Reviews v.s Users\")\n",
    "ax.set_ylabel(\"# of Users\")\n",
    "ax.set_xlabel(\"# of Reviews\")\n",
    "fig.show()"
   ]
  },
  {
   "cell_type": "code",
   "execution_count": 111,
   "id": "ac149a52-cc63-4173-a67b-868df949b02d",
   "metadata": {},
   "outputs": [
    {
     "name": "stdout",
     "output_type": "stream",
     "text": [
      "3398408913621736\n"
     ]
    }
   ],
   "source": [
    "print(len(business_map) ** 3)"
   ]
  },
  {
   "cell_type": "code",
   "execution_count": 281,
   "id": "37a798aa-8d74-4c43-b3da-7ca1afd31a85",
   "metadata": {},
   "outputs": [
    {
     "data": {
      "text/plain": [
       "150346"
      ]
     },
     "execution_count": 281,
     "metadata": {},
     "output_type": "execute_result"
    }
   ],
   "source": [
    "len(business_map) "
   ]
  },
  {
   "cell_type": "code",
   "execution_count": 284,
   "id": "1bff8297-7c5a-462d-a0e5-e9b900a2809e",
   "metadata": {},
   "outputs": [
    {
     "data": {
      "text/plain": [
       "1987897"
      ]
     },
     "execution_count": 284,
     "metadata": {},
     "output_type": "execute_result"
    }
   ],
   "source": [
    "len(users)"
   ]
  },
  {
   "cell_type": "code",
   "execution_count": 296,
   "id": "f0a3ddf8-c181-4ce9-88f2-9dc832d7c234",
   "metadata": {},
   "outputs": [
    {
     "data": {
      "text/plain": [
       "1987929"
      ]
     },
     "execution_count": 296,
     "metadata": {},
     "output_type": "execute_result"
    }
   ],
   "source": [
    "len(review_map)"
   ]
  },
  {
   "cell_type": "code",
   "execution_count": 112,
   "id": "1b944eb0-dbce-49f5-9a42-58a53e0f6e0c",
   "metadata": {},
   "outputs": [],
   "source": [
    "state_generator = lambda s : (s[0][-1], s[1][-1], s[2][-1])\n",
    "state_distribution = defaultdict(int)\n",
    "\n",
    "total = 0\n",
    "for k, v in review_map.items():\n",
    "    if len(v) < 3:\n",
    "        continue\n",
    "    v.sort()\n",
    "    for i in range(len(v) - 2):\n",
    "        s = state_generator(v[i: i + 3])\n",
    "        total += 1\n",
    "        state_distribution[s] += 1\n",
    "for k in state_distribution.keys():\n",
    "    state_distribution[k] = state_distribution[k] / total"
   ]
  },
  {
   "cell_type": "code",
   "execution_count": 291,
   "id": "f9a650cc-b024-44f5-a225-5a8d0bdb1082",
   "metadata": {},
   "outputs": [
    {
     "data": {
      "text/plain": [
       "4144461"
      ]
     },
     "execution_count": 291,
     "metadata": {},
     "output_type": "execute_result"
    }
   ],
   "source": [
    "len(state_distribution)"
   ]
  },
  {
   "cell_type": "markdown",
   "id": "312e2281-6b1a-4ff1-b6ba-5165c053cb09",
   "metadata": {},
   "source": [
    "## Generate Data Points"
   ]
  },
  {
   "cell_type": "code",
   "execution_count": 10,
   "id": "1623c7d1-0dc6-4e11-8f3a-f3b49e186d14",
   "metadata": {},
   "outputs": [],
   "source": [
    "def true_q_func(sequence, gamma = 0.5):\n",
    "    reward = np.sum([(gamma ** i) * int(v[1]) for i, v in enumerate(sequence)])\n",
    "    return reward"
   ]
  },
  {
   "cell_type": "code",
   "execution_count": 11,
   "id": "0d745dca-e6de-456a-a58b-998a4a7929e2",
   "metadata": {},
   "outputs": [],
   "source": [
    "def create_data_points(gamma = 0.5):\n",
    "    data_points = [] # (user, last three events, action), q_value\n",
    "    for user, reviews in review_map.items():\n",
    "        reviews.sort()\n",
    "        state = (0,0,0)\n",
    "        for i, review in enumerate(reviews):\n",
    "            q_value = true_q_func(reviews[i:], gamma = gamma)\n",
    "            data_points.append(((user, state, review[-1]), q_value))\n",
    "            state = (state[1], state[2], review[-1])\n",
    "    return data_points"
   ]
  },
  {
   "cell_type": "code",
   "execution_count": null,
   "id": "9c91b3cb-5377-4935-9eda-8884182edc0e",
   "metadata": {},
   "outputs": [],
   "source": [
    "data_points = create_data_points()"
   ]
  },
  {
   "cell_type": "code",
   "execution_count": 74,
   "id": "7a1a45e5-d3e1-4cb6-86ab-cbea2d93311d",
   "metadata": {},
   "outputs": [],
   "source": [
    "data_points_low_gamma = create_data_points(gamma = 0.2)"
   ]
  },
  {
   "cell_type": "code",
   "execution_count": 17,
   "id": "ef128d33-f4bd-4cdf-8575-1890a3f6ab10",
   "metadata": {},
   "outputs": [],
   "source": [
    "data_points = load_var(\"data_points.pkl\")"
   ]
  },
  {
   "cell_type": "markdown",
   "id": "06c459fd-101a-4c15-87ae-c3acab10bfb7",
   "metadata": {},
   "source": [
    "## State Engineering + Regression"
   ]
  },
  {
   "cell_type": "markdown",
   "id": "c2e5411d-b116-4cfa-a465-ca503f3d887c",
   "metadata": {},
   "source": [
    "## User Only, User and Business\n",
    "Generating states from hand-picked items."
   ]
  },
  {
   "cell_type": "code",
   "execution_count": 64,
   "id": "831da526-d4dc-4b9c-9e54-037efb471cec",
   "metadata": {},
   "outputs": [],
   "source": [
    "def user_only(user_id, state, action_taken):\n",
    "    user = users[user_id]\n",
    "    compliment_data = user.filter(regex=\"compliment*\")\n",
    "    v = compliment_data.to_numpy(dtype = int)\n",
    "    return np.concatenate((v, [int(user[\"review_count\"]), float(user[\"average_stars\"]), len(user[\"friends\"])]))\n",
    "\n",
    "def user_and_business(user_id, state, action_taken):\n",
    "    user_vec = user_only(user_id, state, action_taken)\n",
    "    return np.concatenate((user_vec, get_event_embedding(action_taken, enc)))\n",
    "    \n",
    "def user_and_business_abbreviate_history(user_id, state, action_taken, decay = False, **decay_args):\n",
    "    user_vec = user_only(user_id, state, action_taken)\n",
    "    business_embedding = get_event_embedding(action_taken, enc)\n",
    "    bn = np.linalg.norm(business_embedding, ord = 2)\n",
    "    if bn == 0:\n",
    "        return np.concatenate((user_vec, business_embedding, [0]))\n",
    "    user_history_embedding = None\n",
    "    if decay and user_id in user_history_decay_cache:\n",
    "        user_history_embedding = user_history_decay_cache[user_id]\n",
    "    if not decay and user_id in user_history_cache:\n",
    "        user_history_embedding = user_history_cache[user_id]\n",
    "    if user_history_embedding is None:\n",
    "        user_history_embedding = generate_user_history_embedding(user_id, enc, decay = decay, args = decay_args)\n",
    "        if decay:\n",
    "            user_history_decay_cache[user_id] = user_history_embedding\n",
    "        else:\n",
    "            user_history_cache[user_id] = user_history_embedding\n",
    "    un = np.linalg.norm(user_history_embedding, ord = 2)\n",
    "    if un == 0:\n",
    "        return np.concatenate((user_vec, business_embedding, [0]))\n",
    "    similarity_feature = user_history_embedding.dot(business_embedding) / (un * bn)\n",
    "    return np.concatenate((user_vec, business_embedding, [similarity_feature]))\n",
    "    \n",
    "def generate_regression_dataset(f, num_points, dataset):\n",
    "    x_array = []\n",
    "    y_array = []\n",
    "    if num_points >= 0:\n",
    "        dataset_indices = np.random.choice(dataset.shape[0], size = num_points, replace = True) \n",
    "    else:\n",
    "        dataset_indices = np.arange(dataset.shape[0])\n",
    "    for i, dp in enumerate(dataset[dataset_indices]):\n",
    "        if i % (num_points / 5) == 0:\n",
    "            print(i)\n",
    "        try:\n",
    "            q_value = dp[1]\n",
    "            x = f(*dp[0])\n",
    "            x_array.append(x)\n",
    "            y_array.append(q_value)\n",
    "        except KeyError as e:\n",
    "            print('KeyError: ', e)\n",
    "            continue\n",
    "    return x_array, y_array"
   ]
  },
  {
   "cell_type": "markdown",
   "id": "fc2b42c3-3c64-4b92-b3c7-8bd9c1e1d8ec",
   "metadata": {},
   "source": [
    "### Dataset Generation"
   ]
  },
  {
   "cell_type": "code",
   "execution_count": 23,
   "id": "f4735abb-9d81-4387-8daf-4c41dc0fe967",
   "metadata": {
    "tags": []
   },
   "outputs": [
    {
     "name": "stdout",
     "output_type": "stream",
     "text": [
      "0\n",
      "3000\n",
      "6000\n",
      "9000\n",
      "12000\n"
     ]
    }
   ],
   "source": [
    "test_x_u, test_y_u = generate_regression_dataset(user_only, 15000, np.array(data_points, dtype=object))"
   ]
  },
  {
   "cell_type": "code",
   "execution_count": 31,
   "id": "7cbf0935-a863-4504-8aae-d80385a0577e",
   "metadata": {},
   "outputs": [
    {
     "name": "stdout",
     "output_type": "stream",
     "text": [
      "0\n",
      "3000\n",
      "6000\n",
      "9000\n",
      "12000\n"
     ]
    }
   ],
   "source": [
    "test_x_ub, test_y_ub = generate_regression_dataset(user_and_business, 15000, np.array(data_points, dtype=object))"
   ]
  },
  {
   "cell_type": "code",
   "execution_count": 41,
   "id": "0b53de62-72ca-4038-a886-1c2881ed4018",
   "metadata": {},
   "outputs": [
    {
     "name": "stdout",
     "output_type": "stream",
     "text": [
      "0\n",
      "3000\n",
      "6000\n",
      "9000\n",
      "12000\n"
     ]
    }
   ],
   "source": [
    "test_x_ubh, test_y_ubh = generate_regression_dataset(user_and_business_abbreviate_history, 15000, np.array(data_points, dtype=object))"
   ]
  },
  {
   "cell_type": "code",
   "execution_count": 68,
   "id": "6bd530e1-8c93-479f-9d46-a65dbad07170",
   "metadata": {},
   "outputs": [
    {
     "name": "stdout",
     "output_type": "stream",
     "text": [
      "0\n",
      "3000\n",
      "6000\n",
      "9000\n",
      "12000\n"
     ]
    }
   ],
   "source": [
    "decay = 0.7\n",
    "user_and_business_abbreviate_history_with_decay = lambda user_id, state, action_taken : \\\n",
    "user_and_business_abbreviate_history(user_id, state, action_taken, decay = True, decay_factor = decay)\n",
    "\n",
    "test_x_ubh_decay, test_y_ubh_decay = generate_regression_dataset(user_and_business_abbreviate_history_with_decay, 15000, np.array(data_points, dtype=object))"
   ]
  },
  {
   "cell_type": "markdown",
   "id": "fa87dcc4-c38a-4397-ac71-996fef896dd7",
   "metadata": {},
   "source": [
    "### Linear Regression"
   ]
  },
  {
   "cell_type": "code",
   "execution_count": 26,
   "id": "65e2ff56-d2d5-41f3-a6d6-176c2edea999",
   "metadata": {},
   "outputs": [],
   "source": [
    "from sklearn.linear_model import LinearRegression\n",
    "from sklearn.model_selection import train_test_split\n",
    "from sklearn.metrics import mean_absolute_error\n",
    "\n",
    "x, xt, y, yt = train_test_split(test_x_u, test_y_u, test_size = 0.2, random_state=6998)"
   ]
  },
  {
   "cell_type": "code",
   "execution_count": 33,
   "id": "bbd25b01-e604-4589-a100-8d226d328b47",
   "metadata": {},
   "outputs": [],
   "source": [
    "x2, xt2, y2, yt2 = train_test_split(test_x_ub, test_y_ub, test_size = 0.2, random_state=6998)"
   ]
  },
  {
   "cell_type": "code",
   "execution_count": 43,
   "id": "b527e069-e92c-44a6-ad5d-e0bf611e8186",
   "metadata": {},
   "outputs": [],
   "source": [
    "x3, xt3, y3, yt3 = train_test_split(test_x_ubh, test_y_ubh, test_size = 0.2, random_state=6998)"
   ]
  },
  {
   "cell_type": "code",
   "execution_count": 69,
   "id": "e6c16d80-f9fa-4a63-ac5d-17aa8f0f3722",
   "metadata": {},
   "outputs": [],
   "source": [
    "x4, xt4, y4, yt4 = train_test_split(test_x_ubh_decay, test_y_ubh_decay, test_size = 0.2, random_state=6998)"
   ]
  },
  {
   "cell_type": "code",
   "execution_count": 27,
   "id": "8d5f30d1-fcf5-46cb-91ff-e8a131531a11",
   "metadata": {},
   "outputs": [
    {
     "name": "stdout",
     "output_type": "stream",
     "text": [
      "Lin reg score: 0.3306111577418521\n"
     ]
    },
    {
     "data": {
      "text/plain": [
       "1.7235169437652633"
      ]
     },
     "execution_count": 27,
     "metadata": {},
     "output_type": "execute_result"
    }
   ],
   "source": [
    "reg = LinearRegression().fit(x,y)\n",
    "\n",
    "linreg_score = reg.score(xt, yt)\n",
    "print('Lin reg score:', linreg_score)\n",
    "mean_absolute_error(reg.predict(xt), yt)"
   ]
  },
  {
   "cell_type": "code",
   "execution_count": 34,
   "id": "1a0baac2-6d25-4c3d-a515-42a6f1360f1f",
   "metadata": {},
   "outputs": [
    {
     "name": "stdout",
     "output_type": "stream",
     "text": [
      "Lin Reg 2 -153276168985.56937\n"
     ]
    },
    {
     "data": {
      "text/plain": [
       "113283.37581964258"
      ]
     },
     "execution_count": 34,
     "metadata": {},
     "output_type": "execute_result"
    }
   ],
   "source": [
    "reg2 = LinearRegression().fit(x2,y2)\n",
    "s = reg2.score(xt2,yt2)\n",
    "print('Lin Reg 2', s)\n",
    "mean_absolute_error(reg2.predict(xt2), yt2)"
   ]
  },
  {
   "cell_type": "code",
   "execution_count": 44,
   "id": "dc89be2a-8735-48c8-8322-234a8496b788",
   "metadata": {},
   "outputs": [
    {
     "name": "stdout",
     "output_type": "stream",
     "text": [
      "Lin Reg 3 -716114.4232293152\n"
     ]
    },
    {
     "data": {
      "text/plain": [
       "71.89191183772276"
      ]
     },
     "execution_count": 44,
     "metadata": {},
     "output_type": "execute_result"
    }
   ],
   "source": [
    "reg3 = LinearRegression().fit(x3,y3)\n",
    "linreg_score = reg3.score(xt3, yt3)\n",
    "print('Lin Reg 3', linreg_score)\n",
    "mean_absolute_error(reg3.predict(xt3), yt3)"
   ]
  },
  {
   "cell_type": "code",
   "execution_count": 72,
   "id": "7654cf31-dc7d-4a63-8564-86ebf11e9df7",
   "metadata": {},
   "outputs": [
    {
     "name": "stdout",
     "output_type": "stream",
     "text": [
      "Lin Reg 3 -1100923228178.6624\n"
     ]
    },
    {
     "data": {
      "text/plain": [
       "73.14032553410665"
      ]
     },
     "execution_count": 72,
     "metadata": {},
     "output_type": "execute_result"
    }
   ],
   "source": [
    "reg4 = LinearRegression().fit(x4,y4)\n",
    "linreg_score = reg4.score(xt4, yt4)\n",
    "print('Lin Reg 3', linreg_score)\n",
    "mean_absolute_error(reg3.predict(xt4), yt4)"
   ]
  },
  {
   "cell_type": "markdown",
   "id": "84f09dd1-8f7c-4ac0-97fc-2bec4bcf17e9",
   "metadata": {},
   "source": [
    "## Decision Tree Regression"
   ]
  },
  {
   "cell_type": "code",
   "execution_count": 30,
   "id": "84adbbd3-69a4-4943-9786-4b877e29b57b",
   "metadata": {},
   "outputs": [
    {
     "name": "stdout",
     "output_type": "stream",
     "text": [
      "Tree reg score: 0.4137961114746189\n"
     ]
    },
    {
     "data": {
      "text/plain": [
       "1.4865994184535658"
      ]
     },
     "execution_count": 30,
     "metadata": {},
     "output_type": "execute_result"
    }
   ],
   "source": [
    "from sklearn.ensemble import RandomForestRegressor\n",
    "\n",
    "treeReg = RandomForestRegressor().fit(x,y)\n",
    "treereg_score = treeReg.score(xt, yt)\n",
    "print('Tree reg score:', treereg_score)\n",
    "mean_absolute_error(treeReg.predict(xt), yt)"
   ]
  },
  {
   "cell_type": "code",
   "execution_count": 35,
   "id": "fdac6a66-d320-4150-9d20-a5be0e9025e7",
   "metadata": {},
   "outputs": [
    {
     "name": "stdout",
     "output_type": "stream",
     "text": [
      "Random Tree 2 score: 0.48638013883352893\n"
     ]
    },
    {
     "data": {
      "text/plain": [
       "1.3814982071817177"
      ]
     },
     "execution_count": 35,
     "metadata": {},
     "output_type": "execute_result"
    }
   ],
   "source": [
    "treeReg2 = RandomForestRegressor().fit(x2,y2)\n",
    "treereg_score = treeReg2.score(xt2, yt2)\n",
    "print('Random Tree 2 score:', treereg_score)\n",
    "mean_absolute_error(treeReg2.predict(xt2), yt2)"
   ]
  },
  {
   "cell_type": "code",
   "execution_count": 45,
   "id": "2e78d364-5e46-446d-8e36-7ac400fd7a7a",
   "metadata": {},
   "outputs": [
    {
     "name": "stdout",
     "output_type": "stream",
     "text": [
      "Random Tree 3 reg score: 0.5980532950373514\n"
     ]
    },
    {
     "data": {
      "text/plain": [
       "1.130635686678888"
      ]
     },
     "execution_count": 45,
     "metadata": {},
     "output_type": "execute_result"
    }
   ],
   "source": [
    "treeReg4 = RandomForestRegressor().fit(x3,y3)\n",
    "treereg_score = treeReg4.score(xt3, yt3)\n",
    "print('Random Tree 3 reg score:', treereg_score)\n",
    "mean_absolute_error(treeReg4.predict(xt3), yt3)"
   ]
  },
  {
   "cell_type": "code",
   "execution_count": 70,
   "id": "6586ffc7-7dde-453e-8833-ca59373487bc",
   "metadata": {},
   "outputs": [
    {
     "name": "stdout",
     "output_type": "stream",
     "text": [
      "Random Tree 3 reg score: 0.5579462832431117\n"
     ]
    },
    {
     "data": {
      "text/plain": [
       "1.1788906056010364"
      ]
     },
     "execution_count": 70,
     "metadata": {},
     "output_type": "execute_result"
    }
   ],
   "source": [
    "treeReg5 = RandomForestRegressor().fit(x4,y4)\n",
    "treereg_score = treeReg5.score(xt4, yt4)\n",
    "print('Random Tree 3 reg score:', treereg_score)\n",
    "mean_absolute_error(treeReg5.predict(xt4), yt4)"
   ]
  },
  {
   "cell_type": "code",
   "execution_count": 46,
   "id": "0cb034f4-9fd3-459b-8e12-6a49dad9bcac",
   "metadata": {},
   "outputs": [
    {
     "data": {
      "text/plain": [
       "array([3.48232688e-03, 3.81914853e-03, 1.93283924e-03, ...,\n",
       "       0.00000000e+00, 1.06145483e-07, 4.55440746e-01])"
      ]
     },
     "execution_count": 46,
     "metadata": {},
     "output_type": "execute_result"
    }
   ],
   "source": [
    "treeReg4.feature_importances_"
   ]
  },
  {
   "cell_type": "code",
   "execution_count": 49,
   "id": "392cf378-d1ae-4019-b0fc-7cb5a9f6d883",
   "metadata": {},
   "outputs": [
    {
     "name": "stderr",
     "output_type": "stream",
     "text": [
      "/var/folders/qk/l24kr0vd3w1ccfx8ng5tp3l00000gr/T/ipykernel_83547/1739710027.py:8: UserWarning: Matplotlib is currently using module://matplotlib_inline.backend_inline, which is a non-GUI backend, so cannot show the figure.\n",
      "  fig.show()\n"
     ]
    },
    {
     "data": {
      "image/png": "[encoded data removed]",
      "text/plain": [
       "<Figure size 720x360 with 1 Axes>"
      ]
     },
     "metadata": {
      "needs_background": "light"
     },
     "output_type": "display_data"
    }
   ],
   "source": [
    "fig, ax = plt.subplots(figsize=(10,5))\n",
    "ax.hist(yt3, alpha = 0.8, label = \"Truth\")\n",
    "ax.hist(treeReg4.predict(xt3), alpha = 0.8, label = \"Predicted\")\n",
    "ax.set_title(\"Prediction vs. Truth Distributions\")\n",
    "ax.set_xlabel(\"Count\")\n",
    "ax.set_ylabel(\"Rating\")\n",
    "ax.legend()\n",
    "fig.show()"
   ]
  },
  {
   "cell_type": "code",
   "execution_count": 73,
   "id": "4485640a-2864-4ad3-81d7-65116b7d2f96",
   "metadata": {},
   "outputs": [
    {
     "name": "stderr",
     "output_type": "stream",
     "text": [
      "/var/folders/qk/l24kr0vd3w1ccfx8ng5tp3l00000gr/T/ipykernel_83547/1899824113.py:8: UserWarning: Matplotlib is currently using module://matplotlib_inline.backend_inline, which is a non-GUI backend, so cannot show the figure.\n",
      "  fig.show()\n"
     ]
    },
    {
     "data": {
      "image/png": "[encoded data removed]",
      "text/plain": [
       "<Figure size 720x360 with 1 Axes>"
      ]
     },
     "metadata": {
      "needs_background": "light"
     },
     "output_type": "display_data"
    }
   ],
   "source": [
    "fig, ax = plt.subplots(figsize=(10,5))\n",
    "ax.hist(yt4, alpha = 0.8, label = \"Truth\")\n",
    "ax.hist(treeReg5.predict(xt4), alpha = 0.8, label = \"Predicted\")\n",
    "ax.set_title(\"Prediction vs. Truth Distributions\")\n",
    "ax.set_xlabel(\"Count\")\n",
    "ax.set_ylabel(\"Rating\")\n",
    "ax.legend()\n",
    "fig.show()"
   ]
  },
  {
   "cell_type": "code",
   "execution_count": 316,
   "id": "0fa1e70e-9629-43c5-984c-0cef66c09883",
   "metadata": {},
   "outputs": [
    {
     "data": {
      "text/plain": [
       "2.079455566227805"
      ]
     },
     "execution_count": 316,
     "metadata": {},
     "output_type": "execute_result"
    }
   ],
   "source": [
    "a = np.array(test_y_u)\n",
    "np.sum(np.abs(a - np.mean(a))) / a.shape[0]"
   ]
  },
  {
   "cell_type": "markdown",
   "id": "2d2bda12-50db-451a-b45f-a9d70ddc171d",
   "metadata": {},
   "source": [
    "## Low-Gamma Trials"
   ]
  },
  {
   "cell_type": "code",
   "execution_count": 92,
   "id": "c365d0a6-9a96-469d-9d9b-2b15ca93341b",
   "metadata": {},
   "outputs": [],
   "source": [
    "def fit_random_forest(full_x, full_y):\n",
    "    x, xt, y, yt = train_test_split(full_x, full_y, test_size = 0.2, random_state=6998)\n",
    "    treeReg = RandomForestRegressor().fit(x,y)\n",
    "    treereg_score = treeReg.score(xt, yt)\n",
    "    print('Tree reg score:', treereg_score)\n",
    "    print('MAE: ', mean_absolute_error(treeReg.predict(xt), yt))\n",
    "    fig, ax = plt.subplots(figsize=(10,5))\n",
    "    ax.hist(yt, alpha = 0.8, label = \"Truth\")\n",
    "    ax.hist(treeReg.predict(xt), alpha = 0.8, label = \"Predicted\")\n",
    "    ax.set_title(\"Prediction vs. Truth Distributions\")\n",
    "    ax.set_xlabel(\"Count\")\n",
    "    ax.set_ylabel(\"Rating\")\n",
    "    ax.legend()\n",
    "    fig.show()"
   ]
  },
  {
   "cell_type": "code",
   "execution_count": 75,
   "id": "e56aacbf-b846-43ec-b5e3-2dfbb8210eb2",
   "metadata": {},
   "outputs": [
    {
     "name": "stdout",
     "output_type": "stream",
     "text": [
      "0\n",
      "3000\n",
      "6000\n",
      "9000\n",
      "12000\n"
     ]
    }
   ],
   "source": [
    "test_x_u, test_y_u = generate_regression_dataset(user_only, 15000, np.array(data_points_low_gamma, dtype=object))"
   ]
  },
  {
   "cell_type": "code",
   "execution_count": 76,
   "id": "c1d9081b-9db5-4a9b-8897-da3c2bc8f0b2",
   "metadata": {},
   "outputs": [
    {
     "name": "stdout",
     "output_type": "stream",
     "text": [
      "0\n",
      "3000\n",
      "6000\n",
      "9000\n",
      "12000\n"
     ]
    }
   ],
   "source": [
    "test_x_ub, test_y_ub = generate_regression_dataset(user_and_business, 15000, np.array(data_points_low_gamma, dtype=object))"
   ]
  },
  {
   "cell_type": "code",
   "execution_count": 85,
   "id": "84a02736-c442-4364-829d-9287d5f4e04b",
   "metadata": {},
   "outputs": [
    {
     "name": "stdout",
     "output_type": "stream",
     "text": [
      "0\n",
      "3000\n",
      "6000\n",
      "9000\n",
      "12000\n"
     ]
    }
   ],
   "source": [
    "x_ubh_lg, y_ugb_lg = generate_regression_dataset(user_and_business_abbreviate_history, 15000, np.array(data_points_low_gamma, dtype=object))"
   ]
  },
  {
   "cell_type": "code",
   "execution_count": 86,
   "id": "bc76a1f0-3686-4d96-9107-a38771e15182",
   "metadata": {},
   "outputs": [
    {
     "data": {
      "text/plain": [
       "15000"
      ]
     },
     "execution_count": 86,
     "metadata": {},
     "output_type": "execute_result"
    }
   ],
   "source": [
    "len(x_ubh_lg)"
   ]
  },
  {
   "cell_type": "code",
   "execution_count": 87,
   "id": "96995e5f-9c16-4a09-9f9f-38a396fd8b2d",
   "metadata": {},
   "outputs": [
    {
     "name": "stdout",
     "output_type": "stream",
     "text": [
      "0\n",
      "3000\n",
      "6000\n",
      "9000\n",
      "12000\n"
     ]
    }
   ],
   "source": [
    "x_ubh_decay_lg, y_ubh_decay_lg = generate_regression_dataset(user_and_business_abbreviate_history_with_decay, 15000, np.array(data_points_low_gamma, dtype=object))"
   ]
  },
  {
   "cell_type": "code",
   "execution_count": 83,
   "id": "83988500-1af1-4f3a-817c-90ae1b8fdac0",
   "metadata": {},
   "outputs": [
    {
     "name": "stdout",
     "output_type": "stream",
     "text": [
      "Tree reg score: 0.2975576161869834\n",
      "MAE:  1.0390319671624968\n"
     ]
    }
   ],
   "source": [
    "fit_random_forest(test_x_u, test_y_u)"
   ]
  },
  {
   "cell_type": "code",
   "execution_count": 84,
   "id": "b3c5bf38-b028-47b8-917a-a8b1c12e9fe9",
   "metadata": {},
   "outputs": [
    {
     "name": "stdout",
     "output_type": "stream",
     "text": [
      "Tree reg score: 0.46797744946193554\n",
      "MAE:  0.8798756242207688\n"
     ]
    }
   ],
   "source": [
    "fit_random_forest(test_x_ub, test_y_ub)"
   ]
  },
  {
   "cell_type": "code",
   "execution_count": 93,
   "id": "59d21142-03d0-4c3e-b690-24fcae5ae9b2",
   "metadata": {},
   "outputs": [
    {
     "name": "stdout",
     "output_type": "stream",
     "text": [
      "Tree reg score: 0.5723894760118242\n",
      "MAE:  0.7481011595615515\n"
     ]
    },
    {
     "name": "stderr",
     "output_type": "stream",
     "text": [
      "/var/folders/qk/l24kr0vd3w1ccfx8ng5tp3l00000gr/T/ipykernel_83547/2564680113.py:14: UserWarning: Matplotlib is currently using module://matplotlib_inline.backend_inline, which is a non-GUI backend, so cannot show the figure.\n",
      "  fig.show()\n"
     ]
    },
    {
     "data": {
      "image/png": "[encoded data removed]",
      "text/plain": [
       "<Figure size 720x360 with 1 Axes>"
      ]
     },
     "metadata": {
      "needs_background": "light"
     },
     "output_type": "display_data"
    }
   ],
   "source": [
    "fit_random_forest(x_ubh_lg, y_ugb_lg)"
   ]
  },
  {
   "cell_type": "code",
   "execution_count": 94,
   "id": "2d2d99ce-5821-4fdb-a72c-3f4b0b22eb10",
   "metadata": {},
   "outputs": [
    {
     "name": "stdout",
     "output_type": "stream",
     "text": [
      "Tree reg score: 0.5543283421855945\n",
      "MAE:  0.7706855061142608\n"
     ]
    },
    {
     "name": "stderr",
     "output_type": "stream",
     "text": [
      "/var/folders/qk/l24kr0vd3w1ccfx8ng5tp3l00000gr/T/ipykernel_83547/2564680113.py:14: UserWarning: Matplotlib is currently using module://matplotlib_inline.backend_inline, which is a non-GUI backend, so cannot show the figure.\n",
      "  fig.show()\n"
     ]
    },
    {
     "data": {
      "image/png": "[encoded data removed]",
      "text/plain": [
       "<Figure size 720x360 with 1 Axes>"
      ]
     },
     "metadata": {
      "needs_background": "light"
     },
     "output_type": "display_data"
    }
   ],
   "source": [
    "fit_random_forest(x_ubh_decay_lg, y_ubh_decay_lg)"
   ]
  },
  {
   "cell_type": "markdown",
   "id": "6d902d2c-ec59-4160-8d13-7df6e8d63093",
   "metadata": {},
   "source": [
    "## High Sequence Low Sequence"
   ]
  },
  {
   "cell_type": "code",
   "execution_count": 156,
   "id": "0878aa72-31e9-4915-97d6-de6a84ffe885",
   "metadata": {},
   "outputs": [],
   "source": [
    "def create_user():\n",
    "    v = np.zeros(14)\n",
    "    return v\n",
    "\n",
    "def process_event(user_vector, reward, review_count):\n",
    "    # average stars\n",
    "    user_vector[12] = (user_vector[12] * review_count + reward) / (review_count + 1)\n",
    "    # review count\n",
    "    user_vector[11] += 1\n",
    "    \n",
    "def process_embedding(embedding, business_embedding, reward, review_count):\n",
    "    embedding *= review_count / (review_count + 1)\n",
    "    embedding += 1/(review_count+1) * business_embedding * (reward - 3)"
   ]
  },
  {
   "cell_type": "code",
   "execution_count": null,
   "id": "f660ed00-24b8-4a90-af0c-cbc391f87a9c",
   "metadata": {},
   "outputs": [],
   "source": [
    "user_keys = list(review_map.keys())"
   ]
  },
  {
   "cell_type": "code",
   "execution_count": 170,
   "id": "d1b62704-4322-4549-b492-cbfb3019a2f6",
   "metadata": {},
   "outputs": [],
   "source": [
    "keys = np.random.choice(user_keys, 5000)"
   ]
  },
  {
   "cell_type": "code",
   "execution_count": 171,
   "id": "98fff533-0f29-43e7-a875-c6486e593b97",
   "metadata": {},
   "outputs": [],
   "source": [
    "from collections import defaultdict\n",
    "\n",
    "err_map = defaultdict(list)\n",
    "for user in keys:\n",
    "    new_user_sim = create_user()\n",
    "    u_embedding = np.zeros(3 + enc.transform([[\"\"] * 5]).shape[1])\n",
    "    reviews = review_map[user]\n",
    "    for i, review in enumerate(reviews):\n",
    "        time, reward, action_taken = review\n",
    "        business_embedding = get_event_embedding(action_taken, enc)\n",
    "        bn = np.linalg.norm(business_embedding, ord = 2)\n",
    "        un = np.linalg.norm(u_embedding, ord = 2)\n",
    "        inp = None\n",
    "        if bn == 0 or un == 0:\n",
    "            inp = np.concatenate((new_user_sim, business_embedding, [0]))\n",
    "        else:\n",
    "            inp = np.concatenate((new_user_sim, business_embedding, [u_embedding.dot(business_embedding) / (un * bn)]))\n",
    "        err = np.abs(treeReg5.predict([inp]) - true_q_func(reviews[i:]))\n",
    "        err_map[i].append(err)\n",
    "        \n",
    "        # next step\n",
    "        process_embedding(u_embedding, business_embedding, reward, i)\n",
    "        process_event(new_user_sim, reward, i)"
   ]
  },
  {
   "cell_type": "code",
   "execution_count": 172,
   "id": "5c3a4d61-7647-41c4-9be5-a8b14d23e2a6",
   "metadata": {},
   "outputs": [],
   "source": [
    "final_err_map = {}\n",
    "for key, value in err_map.items():\n",
    "    final_err_map[key] = np.mean(value)"
   ]
  },
  {
   "cell_type": "code",
   "execution_count": 173,
   "id": "dba68d43-0b4e-40f1-a085-a22bcc678ed2",
   "metadata": {},
   "outputs": [
    {
     "name": "stderr",
     "output_type": "stream",
     "text": [
      "/var/folders/qk/l24kr0vd3w1ccfx8ng5tp3l00000gr/T/ipykernel_83547/43996555.py:12: UserWarning: Matplotlib is currently using module://matplotlib_inline.backend_inline, which is a non-GUI backend, so cannot show the figure.\n",
      "  fig.show()\n"
     ]
    },
    {
     "data": {
      "image/png": "[encoded data removed]",
      "text/plain": [
       "<Figure size 720x360 with 1 Axes>"
      ]
     },
     "metadata": {
      "needs_background": "light"
     },
     "output_type": "display_data"
    }
   ],
   "source": [
    "x, y = [], []\n",
    "for key, value in final_err_map.items():\n",
    "    x.append(int(key))\n",
    "    y.append(value)\n",
    "\n",
    "fig, ax = plt.subplots(figsize=(10,5))\n",
    "ax.plot(x,y)\n",
    "ax.set_title(\"Performance in Practice, Review Count vs MAE Q-Func\")\n",
    "ax.set_ylabel(\"MAE of Q-Function Estimator\")\n",
    "ax.set_xlabel(\"Review Count\")\n",
    "ax.grid(True)\n",
    "fig.show()"
   ]
  },
  {
   "cell_type": "code",
   "execution_count": 123,
   "id": "473f9665-018f-444a-92a3-464dc8b217f9",
   "metadata": {},
   "outputs": [
    {
     "data": {
      "text/plain": [
       "(array([2596., 2006., 1319.,  964.,  697.,  584.,  464.,  376.,  331.,\n",
       "         329.]),\n",
       " array([ 0.,  5., 10., 15., 20., 25., 30., 35., 40., 45., 50.]),\n",
       " <BarContainer object of 10 artists>)"
      ]
     },
     "execution_count": 123,
     "metadata": {},
     "output_type": "execute_result"
    },
    {
     "data": {
      "image/png": "[encoded data removed]",
      "text/plain": [
       "<Figure size 432x288 with 1 Axes>"
      ]
     },
     "metadata": {
      "needs_background": "light"
     },
     "output_type": "display_data"
    }
   ],
   "source": [
    "l = []\n",
    "for x in test_x_ubh:\n",
    "    l.append(x[11])\n",
    "plt.hist(l, range = (0,50))"
   ]
  },
  {
   "cell_type": "code",
   "execution_count": 130,
   "id": "58df89cb-25c4-4825-baaa-9ebcd870e585",
   "metadata": {},
   "outputs": [],
   "source": [
    "performance = []\n",
    "for left, right in [(0,10), (11, 20), (21, 100), (101, np.inf)]:\n",
    "    dataset = []\n",
    "    y_dataset = []\n",
    "    for i, x in enumerate(test_x_ubh):\n",
    "        if left <= x[11] <= right:\n",
    "            dataset.append(x)\n",
    "            y_dataset.append(test_y_ubh[i])\n",
    "    performance.append(mean_absolute_error(treeReg5.predict(dataset), y_dataset))"
   ]
  },
  {
   "cell_type": "markdown",
   "id": "727491c3-0053-4ad5-97fd-b312744ea30b",
   "metadata": {},
   "source": [
    "## Simulate Reinforcement Sequence"
   ]
  },
  {
   "cell_type": "code",
   "execution_count": 215,
   "id": "ebb450a2-23da-4b54-a00d-5387a806d788",
   "metadata": {},
   "outputs": [
    {
     "name": "stdout",
     "output_type": "stream",
     "text": [
      "0\n",
      "1000\n",
      "2000\n",
      "3000\n",
      "4000\n",
      "5000\n"
     ]
    },
    {
     "data": {
      "image/png": "[encoded data removed]",
      "text/plain": [
       "<Figure size 432x288 with 1 Axes>"
      ]
     },
     "metadata": {
      "needs_background": "light"
     },
     "output_type": "display_data"
    },
    {
     "name": "stdout",
     "output_type": "stream",
     "text": [
      "Q-Approx:  1.702187497317791\n",
      "[business_id                                lqwbnNd_SXzkIK_pkU2FkA\n",
      "name                                                       D'Vine\n",
      "address                                    205 W Canon Perdido St\n",
      "city                                                Santa Barbara\n",
      "state                                                          CA\n",
      "postal_code                                                 93101\n",
      "latitude                                                34.418066\n",
      "longitude                                             -119.702953\n",
      "stars                                                         4.0\n",
      "review_count                                                   26\n",
      "is_open                                                         0\n",
      "attributes      {'BusinessAcceptsCreditCards': 'True', 'GoodFo...\n",
      "categories                         Sandwiches, Restaurants, Delis\n",
      "hours           {'Monday': '8:0-16:0', 'Tuesday': '8:0-16:0', ...\n",
      "Name: 29145, dtype: object]\n",
      "Select a number\n"
     ]
    },
    {
     "name": "stdin",
     "output_type": "stream",
     "text": [
      " 0\n"
     ]
    },
    {
     "name": "stdout",
     "output_type": "stream",
     "text": [
      "Reward 1-5:\n"
     ]
    },
    {
     "name": "stdin",
     "output_type": "stream",
     "text": [
      " 1\n"
     ]
    },
    {
     "name": "stdout",
     "output_type": "stream",
     "text": [
      "0\n",
      "1000\n",
      "2000\n",
      "3000\n",
      "4000\n",
      "5000\n"
     ]
    },
    {
     "data": {
      "image/png": "[encoded data removed]",
      "text/plain": [
       "<Figure size 432x288 with 1 Axes>"
      ]
     },
     "metadata": {
      "needs_background": "light"
     },
     "output_type": "display_data"
    },
    {
     "name": "stdout",
     "output_type": "stream",
     "text": [
      "Q-Approx:  1.634687497317791\n",
      "[business_id                                lqwbnNd_SXzkIK_pkU2FkA\n",
      "name                                                       D'Vine\n",
      "address                                    205 W Canon Perdido St\n",
      "city                                                Santa Barbara\n",
      "state                                                          CA\n",
      "postal_code                                                 93101\n",
      "latitude                                                34.418066\n",
      "longitude                                             -119.702953\n",
      "stars                                                         4.0\n",
      "review_count                                                   26\n",
      "is_open                                                         0\n",
      "attributes      {'BusinessAcceptsCreditCards': 'True', 'GoodFo...\n",
      "categories                         Sandwiches, Restaurants, Delis\n",
      "hours           {'Monday': '8:0-16:0', 'Tuesday': '8:0-16:0', ...\n",
      "Name: 29145, dtype: object]\n",
      "Select a number\n"
     ]
    },
    {
     "name": "stdin",
     "output_type": "stream",
     "text": [
      " 0\n"
     ]
    },
    {
     "name": "stdout",
     "output_type": "stream",
     "text": [
      "Reward 1-5:\n"
     ]
    },
    {
     "name": "stdin",
     "output_type": "stream",
     "text": [
      " 1\n"
     ]
    },
    {
     "name": "stdout",
     "output_type": "stream",
     "text": [
      "0\n",
      "1000\n",
      "2000\n",
      "3000\n",
      "4000\n",
      "5000\n"
     ]
    },
    {
     "data": {
      "image/png": "[encoded data removed]",
      "text/plain": [
       "<Figure size 432x288 with 1 Axes>"
      ]
     },
     "metadata": {
      "needs_background": "light"
     },
     "output_type": "display_data"
    },
    {
     "name": "stdout",
     "output_type": "stream",
     "text": [
      "Q-Approx:  1.634687497317791\n",
      "[business_id                                lqwbnNd_SXzkIK_pkU2FkA\n",
      "name                                                       D'Vine\n",
      "address                                    205 W Canon Perdido St\n",
      "city                                                Santa Barbara\n",
      "state                                                          CA\n",
      "postal_code                                                 93101\n",
      "latitude                                                34.418066\n",
      "longitude                                             -119.702953\n",
      "stars                                                         4.0\n",
      "review_count                                                   26\n",
      "is_open                                                         0\n",
      "attributes      {'BusinessAcceptsCreditCards': 'True', 'GoodFo...\n",
      "categories                         Sandwiches, Restaurants, Delis\n",
      "hours           {'Monday': '8:0-16:0', 'Tuesday': '8:0-16:0', ...\n",
      "Name: 29145, dtype: object]\n",
      "Select a number\n"
     ]
    },
    {
     "name": "stdin",
     "output_type": "stream",
     "text": [
      " 0\n"
     ]
    },
    {
     "name": "stdout",
     "output_type": "stream",
     "text": [
      "Reward 1-5:\n"
     ]
    },
    {
     "name": "stdin",
     "output_type": "stream",
     "text": [
      " 1\n"
     ]
    },
    {
     "name": "stdout",
     "output_type": "stream",
     "text": [
      "0\n",
      "1000\n",
      "2000\n",
      "3000\n",
      "4000\n",
      "5000\n"
     ]
    },
    {
     "data": {
      "image/png": "[encoded data removed]",
      "text/plain": [
       "<Figure size 432x288 with 1 Axes>"
      ]
     },
     "metadata": {
      "needs_background": "light"
     },
     "output_type": "display_data"
    },
    {
     "name": "stdout",
     "output_type": "stream",
     "text": [
      "Q-Approx:  1.624062497317791\n",
      "[business_id                                lqwbnNd_SXzkIK_pkU2FkA\n",
      "name                                                       D'Vine\n",
      "address                                    205 W Canon Perdido St\n",
      "city                                                Santa Barbara\n",
      "state                                                          CA\n",
      "postal_code                                                 93101\n",
      "latitude                                                34.418066\n",
      "longitude                                             -119.702953\n",
      "stars                                                         4.0\n",
      "review_count                                                   26\n",
      "is_open                                                         0\n",
      "attributes      {'BusinessAcceptsCreditCards': 'True', 'GoodFo...\n",
      "categories                         Sandwiches, Restaurants, Delis\n",
      "hours           {'Monday': '8:0-16:0', 'Tuesday': '8:0-16:0', ...\n",
      "Name: 29145, dtype: object]\n",
      "Select a number\n"
     ]
    },
    {
     "name": "stdin",
     "output_type": "stream",
     "text": [
      " 0\n"
     ]
    },
    {
     "name": "stdout",
     "output_type": "stream",
     "text": [
      "Reward 1-5:\n"
     ]
    },
    {
     "name": "stdin",
     "output_type": "stream",
     "text": [
      " 1\n"
     ]
    },
    {
     "name": "stdout",
     "output_type": "stream",
     "text": [
      "0\n",
      "1000\n",
      "2000\n",
      "3000\n",
      "4000\n",
      "5000\n"
     ]
    },
    {
     "data": {
      "image/png": "[encoded data removed]",
      "text/plain": [
       "<Figure size 432x288 with 1 Axes>"
      ]
     },
     "metadata": {
      "needs_background": "light"
     },
     "output_type": "display_data"
    },
    {
     "name": "stdout",
     "output_type": "stream",
     "text": [
      "Q-Approx:  1.7118749970197678\n",
      "[business_id                                lqwbnNd_SXzkIK_pkU2FkA\n",
      "name                                                       D'Vine\n",
      "address                                    205 W Canon Perdido St\n",
      "city                                                Santa Barbara\n",
      "state                                                          CA\n",
      "postal_code                                                 93101\n",
      "latitude                                                34.418066\n",
      "longitude                                             -119.702953\n",
      "stars                                                         4.0\n",
      "review_count                                                   26\n",
      "is_open                                                         0\n",
      "attributes      {'BusinessAcceptsCreditCards': 'True', 'GoodFo...\n",
      "categories                         Sandwiches, Restaurants, Delis\n",
      "hours           {'Monday': '8:0-16:0', 'Tuesday': '8:0-16:0', ...\n",
      "Name: 29145, dtype: object]\n",
      "Select a number\n"
     ]
    },
    {
     "ename": "KeyboardInterrupt",
     "evalue": "Interrupted by user",
     "output_type": "error",
     "traceback": [
      "\u001b[0;31m---------------------------------------------------------------------------\u001b[0m",
      "\u001b[0;31mKeyboardInterrupt\u001b[0m                         Traceback (most recent call last)",
      "\u001b[0;32m/var/folders/qk/l24kr0vd3w1ccfx8ng5tp3l00000gr/T/ipykernel_83547/3778915434.py\u001b[0m in \u001b[0;36m<module>\u001b[0;34m\u001b[0m\n\u001b[1;32m     27\u001b[0m     \u001b[0mprint\u001b[0m\u001b[0;34m(\u001b[0m\u001b[0;34m[\u001b[0m\u001b[0mbusiness_map\u001b[0m\u001b[0;34m[\u001b[0m\u001b[0mca_bids\u001b[0m\u001b[0;34m[\u001b[0m\u001b[0mx\u001b[0m\u001b[0;34m]\u001b[0m\u001b[0;34m]\u001b[0m \u001b[0;32mfor\u001b[0m \u001b[0mx\u001b[0m \u001b[0;32min\u001b[0m \u001b[0mindices\u001b[0m\u001b[0;34m]\u001b[0m\u001b[0;34m)\u001b[0m\u001b[0;34m\u001b[0m\u001b[0;34m\u001b[0m\u001b[0m\n\u001b[1;32m     28\u001b[0m     \u001b[0mprint\u001b[0m\u001b[0;34m(\u001b[0m\u001b[0;34m'Select a number'\u001b[0m\u001b[0;34m)\u001b[0m\u001b[0;34m\u001b[0m\u001b[0;34m\u001b[0m\u001b[0m\n\u001b[0;32m---> 29\u001b[0;31m     \u001b[0mselection\u001b[0m \u001b[0;34m=\u001b[0m \u001b[0mint\u001b[0m\u001b[0;34m(\u001b[0m\u001b[0minput\u001b[0m\u001b[0;34m(\u001b[0m\u001b[0;34m)\u001b[0m\u001b[0;34m)\u001b[0m\u001b[0;34m\u001b[0m\u001b[0;34m\u001b[0m\u001b[0m\n\u001b[0m\u001b[1;32m     30\u001b[0m     \u001b[0mprint\u001b[0m\u001b[0;34m(\u001b[0m\u001b[0;34m'Reward 1-5:'\u001b[0m\u001b[0;34m)\u001b[0m\u001b[0;34m\u001b[0m\u001b[0;34m\u001b[0m\u001b[0m\n\u001b[1;32m     31\u001b[0m     \u001b[0mreward\u001b[0m \u001b[0;34m=\u001b[0m \u001b[0mint\u001b[0m\u001b[0;34m(\u001b[0m\u001b[0minput\u001b[0m\u001b[0;34m(\u001b[0m\u001b[0;34m)\u001b[0m\u001b[0;34m)\u001b[0m\u001b[0;34m\u001b[0m\u001b[0;34m\u001b[0m\u001b[0m\n",
      "\u001b[0;32m/usr/local/lib/python3.9/site-packages/ipykernel/kernelbase.py\u001b[0m in \u001b[0;36mraw_input\u001b[0;34m(self, prompt)\u001b[0m\n\u001b[1;32m   1005\u001b[0m                 \u001b[0;34m\"raw_input was called, but this frontend does not support input requests.\"\u001b[0m\u001b[0;34m\u001b[0m\u001b[0;34m\u001b[0m\u001b[0m\n\u001b[1;32m   1006\u001b[0m             )\n\u001b[0;32m-> 1007\u001b[0;31m         return self._input_request(\n\u001b[0m\u001b[1;32m   1008\u001b[0m             \u001b[0mstr\u001b[0m\u001b[0;34m(\u001b[0m\u001b[0mprompt\u001b[0m\u001b[0;34m)\u001b[0m\u001b[0;34m,\u001b[0m\u001b[0;34m\u001b[0m\u001b[0;34m\u001b[0m\u001b[0m\n\u001b[1;32m   1009\u001b[0m             \u001b[0mself\u001b[0m\u001b[0;34m.\u001b[0m\u001b[0m_parent_ident\u001b[0m\u001b[0;34m[\u001b[0m\u001b[0;34m\"shell\"\u001b[0m\u001b[0;34m]\u001b[0m\u001b[0;34m,\u001b[0m\u001b[0;34m\u001b[0m\u001b[0;34m\u001b[0m\u001b[0m\n",
      "\u001b[0;32m/usr/local/lib/python3.9/site-packages/ipykernel/kernelbase.py\u001b[0m in \u001b[0;36m_input_request\u001b[0;34m(self, prompt, ident, parent, password)\u001b[0m\n\u001b[1;32m   1050\u001b[0m             \u001b[0;32mexcept\u001b[0m \u001b[0mKeyboardInterrupt\u001b[0m\u001b[0;34m:\u001b[0m\u001b[0;34m\u001b[0m\u001b[0;34m\u001b[0m\u001b[0m\n\u001b[1;32m   1051\u001b[0m                 \u001b[0;31m# re-raise KeyboardInterrupt, to truncate traceback\u001b[0m\u001b[0;34m\u001b[0m\u001b[0;34m\u001b[0m\u001b[0;34m\u001b[0m\u001b[0m\n\u001b[0;32m-> 1052\u001b[0;31m                 \u001b[0;32mraise\u001b[0m \u001b[0mKeyboardInterrupt\u001b[0m\u001b[0;34m(\u001b[0m\u001b[0;34m\"Interrupted by user\"\u001b[0m\u001b[0;34m)\u001b[0m \u001b[0;32mfrom\u001b[0m \u001b[0;32mNone\u001b[0m\u001b[0;34m\u001b[0m\u001b[0;34m\u001b[0m\u001b[0m\n\u001b[0m\u001b[1;32m   1053\u001b[0m             \u001b[0;32mexcept\u001b[0m \u001b[0mException\u001b[0m\u001b[0;34m:\u001b[0m\u001b[0;34m\u001b[0m\u001b[0;34m\u001b[0m\u001b[0m\n\u001b[1;32m   1054\u001b[0m                 \u001b[0mself\u001b[0m\u001b[0;34m.\u001b[0m\u001b[0mlog\u001b[0m\u001b[0;34m.\u001b[0m\u001b[0mwarning\u001b[0m\u001b[0;34m(\u001b[0m\u001b[0;34m\"Invalid Message:\"\u001b[0m\u001b[0;34m,\u001b[0m \u001b[0mexc_info\u001b[0m\u001b[0;34m=\u001b[0m\u001b[0;32mTrue\u001b[0m\u001b[0;34m)\u001b[0m\u001b[0;34m\u001b[0m\u001b[0;34m\u001b[0m\u001b[0m\n",
      "\u001b[0;31mKeyboardInterrupt\u001b[0m: Interrupted by user"
     ]
    }
   ],
   "source": [
    "new_user_sim = create_user()\n",
    "u_embedding = np.zeros(3 + enc.transform([[\"\"] * 5]).shape[1])\n",
    "reviews = review_map[user]\n",
    "for t in range(5):\n",
    "    inps = []\n",
    "    business_embeddings = []\n",
    "    for i, action_taken in enumerate(ca_bids):\n",
    "        if i % 1000 == 0:\n",
    "          print(i)\n",
    "        business_embedding = get_event_embedding(action_taken, enc)\n",
    "        bn = np.linalg.norm(business_embedding, ord = 2)\n",
    "        un = np.linalg.norm(u_embedding, ord = 2)\n",
    "        inp = None\n",
    "        if bn == 0 or un == 0:\n",
    "            inp = np.concatenate((new_user_sim, business_embedding, [0]))\n",
    "        else:\n",
    "            inp = np.concatenate((new_user_sim, business_embedding, [u_embedding.dot(business_embedding) / (un * bn)]))\n",
    "        inps.append(inp)\n",
    "        business_embeddings.append(business_embedding)\n",
    "    ys = treeReg5.predict(inps)\n",
    "    plt.hist(ys)\n",
    "    plt.show()\n",
    "    indices = np.argmax(ys)\n",
    "    if type(indices) is np.int64:\n",
    "        indices = [indices]\n",
    "    print('Q-Approx: ', np.max(ys))\n",
    "    print([business_map[ca_bids[x]] for x in indices])\n",
    "    print('Select a number')\n",
    "    selection = int(input())\n",
    "    print('Reward 1-5:')\n",
    "    reward = int(input())\n",
    "    business_chosen_embedding = business_embeddings[indices[selection]]\n",
    "    # next step\n",
    "    process_embedding(u_embedding, business_embedding, reward, t)\n",
    "    process_event(new_user_sim, reward, t)"
   ]
  },
  {
   "cell_type": "code",
   "execution_count": 216,
   "id": "50f1b631-6037-43d4-bf5a-67616d256f43",
   "metadata": {},
   "outputs": [
    {
     "name": "stdout",
     "output_type": "stream",
     "text": [
      "0\n",
      "1000\n",
      "2000\n",
      "3000\n",
      "4000\n",
      "5000\n"
     ]
    },
    {
     "data": {
      "image/png": "[encoded data removed]",
      "text/plain": [
       "<Figure size 432x288 with 1 Axes>"
      ]
     },
     "metadata": {
      "needs_background": "light"
     },
     "output_type": "display_data"
    },
    {
     "name": "stdout",
     "output_type": "stream",
     "text": [
      "Q-Approx:  1.702187497317791\n",
      "[business_id                                lqwbnNd_SXzkIK_pkU2FkA\n",
      "name                                                       D'Vine\n",
      "address                                    205 W Canon Perdido St\n",
      "city                                                Santa Barbara\n",
      "state                                                          CA\n",
      "postal_code                                                 93101\n",
      "latitude                                                34.418066\n",
      "longitude                                             -119.702953\n",
      "stars                                                         4.0\n",
      "review_count                                                   26\n",
      "is_open                                                         0\n",
      "attributes      {'BusinessAcceptsCreditCards': 'True', 'GoodFo...\n",
      "categories                         Sandwiches, Restaurants, Delis\n",
      "hours           {'Monday': '8:0-16:0', 'Tuesday': '8:0-16:0', ...\n",
      "Name: 29145, dtype: object]\n",
      "Select a number\n"
     ]
    },
    {
     "name": "stdin",
     "output_type": "stream",
     "text": [
      " 0\n"
     ]
    },
    {
     "name": "stdout",
     "output_type": "stream",
     "text": [
      "Reward 1-5:\n"
     ]
    },
    {
     "name": "stdin",
     "output_type": "stream",
     "text": [
      " 5\n"
     ]
    },
    {
     "name": "stdout",
     "output_type": "stream",
     "text": [
      "0\n",
      "1000\n",
      "2000\n",
      "3000\n",
      "4000\n",
      "5000\n"
     ]
    },
    {
     "data": {
      "image/png": "[encoded data removed]",
      "text/plain": [
       "<Figure size 432x288 with 1 Axes>"
      ]
     },
     "metadata": {
      "needs_background": "light"
     },
     "output_type": "display_data"
    },
    {
     "name": "stdout",
     "output_type": "stream",
     "text": [
      "Q-Approx:  6.7625\n",
      "[business_id                                znlrxrY4InSx7ekPZxoHRw\n",
      "name                                  McConnell's Fine Ice Creams\n",
      "address                                              728 State St\n",
      "city                                                Santa Barbara\n",
      "state                                                          CA\n",
      "postal_code                                                 93101\n",
      "latitude                                                34.419491\n",
      "longitude                                             -119.698774\n",
      "stars                                                         4.5\n",
      "review_count                                                 1537\n",
      "is_open                                                         1\n",
      "attributes      {'RestaurantsPriceRange2': '2', 'BusinessAccep...\n",
      "categories              Food, Ice Cream & Frozen Yogurt, Desserts\n",
      "hours           {'Monday': '0:0-0:0', 'Tuesday': '12:0-21:0', ...\n",
      "Name: 101797, dtype: object]\n",
      "Select a number\n"
     ]
    },
    {
     "name": "stdin",
     "output_type": "stream",
     "text": [
      " 0\n"
     ]
    },
    {
     "name": "stdout",
     "output_type": "stream",
     "text": [
      "Reward 1-5:\n"
     ]
    },
    {
     "name": "stdin",
     "output_type": "stream",
     "text": [
      " 2\n"
     ]
    },
    {
     "name": "stdout",
     "output_type": "stream",
     "text": [
      "0\n",
      "1000\n",
      "2000\n",
      "3000\n",
      "4000\n",
      "5000\n"
     ]
    },
    {
     "data": {
      "image/png": "[encoded data removed]",
      "text/plain": [
       "<Figure size 432x288 with 1 Axes>"
      ]
     },
     "metadata": {
      "needs_background": "light"
     },
     "output_type": "display_data"
    },
    {
     "name": "stdout",
     "output_type": "stream",
     "text": [
      "Q-Approx:  5.9346875\n",
      "[business_id                                jMzcn59A2OYZ3zv2BoDdOw\n",
      "name                                        Fernando's Smog Check\n",
      "address                                             5940 Olney St\n",
      "city                                                       Goleta\n",
      "state                                                          CA\n",
      "postal_code                                                 93117\n",
      "latitude                                                34.429934\n",
      "longitude                                             -119.829827\n",
      "stars                                                         5.0\n",
      "review_count                                                  193\n",
      "is_open                                                         1\n",
      "attributes      {'BusinessAcceptsCreditCards': 'True', 'WiFi':...\n",
      "categories      Smog Check Stations, Automotive, Oil Change St...\n",
      "hours           {'Monday': '0:0-0:0', 'Tuesday': '8:0-16:30', ...\n",
      "Name: 23140, dtype: object]\n",
      "Select a number\n"
     ]
    },
    {
     "name": "stdin",
     "output_type": "stream",
     "text": [
      " 0\n"
     ]
    },
    {
     "name": "stdout",
     "output_type": "stream",
     "text": [
      "Reward 1-5:\n"
     ]
    },
    {
     "name": "stdin",
     "output_type": "stream",
     "text": [
      " 1\n"
     ]
    },
    {
     "name": "stdout",
     "output_type": "stream",
     "text": [
      "0\n",
      "1000\n",
      "2000\n",
      "3000\n",
      "4000\n",
      "5000\n"
     ]
    },
    {
     "data": {
      "image/png": "[encoded data removed]",
      "text/plain": [
       "<Figure size 432x288 with 1 Axes>"
      ]
     },
     "metadata": {
      "needs_background": "light"
     },
     "output_type": "display_data"
    },
    {
     "name": "stdout",
     "output_type": "stream",
     "text": [
      "Q-Approx:  5.640322309061885\n",
      "[business_id      tu5XjdlCKN3Ctv7WhXmlZQ\n",
      "name                  Hien Motor Repair\n",
      "address           257 Orange Ave, Ste C\n",
      "city                             Goleta\n",
      "state                                CA\n",
      "postal_code                       93117\n",
      "latitude                      34.434865\n",
      "longitude                   -119.829852\n",
      "stars                               4.0\n",
      "review_count                         11\n",
      "is_open                               1\n",
      "attributes                         None\n",
      "categories      Automotive, Auto Repair\n",
      "hours                              None\n",
      "Name: 84462, dtype: object]\n",
      "Select a number\n"
     ]
    },
    {
     "name": "stdin",
     "output_type": "stream",
     "text": [
      " 0\n"
     ]
    },
    {
     "name": "stdout",
     "output_type": "stream",
     "text": [
      "Reward 1-5:\n"
     ]
    },
    {
     "name": "stdin",
     "output_type": "stream",
     "text": [
      " 1\n"
     ]
    },
    {
     "name": "stdout",
     "output_type": "stream",
     "text": [
      "0\n",
      "1000\n",
      "2000\n",
      "3000\n",
      "4000\n",
      "5000\n"
     ]
    },
    {
     "data": {
      "image/png": "[encoded data removed]",
      "text/plain": [
       "<Figure size 432x288 with 1 Axes>"
      ]
     },
     "metadata": {
      "needs_background": "light"
     },
     "output_type": "display_data"
    },
    {
     "name": "stdout",
     "output_type": "stream",
     "text": [
      "Q-Approx:  5.257724609375\n",
      "[business_id                     kB4Uz9F9w7QkmNwjzQhPAw\n",
      "name                                   Der Volks Werks\n",
      "address                             626 E Gutierrez St\n",
      "city                                     Santa Barbara\n",
      "state                                               CA\n",
      "postal_code                                      93103\n",
      "latitude                                      34.42281\n",
      "longitude                                  -119.686524\n",
      "stars                                              4.5\n",
      "review_count                                         9\n",
      "is_open                                              0\n",
      "attributes      {'BusinessAcceptsCreditCards': 'True'}\n",
      "categories                     Automotive, Auto Repair\n",
      "hours                                             None\n",
      "Name: 28291, dtype: object]\n",
      "Select a number\n"
     ]
    },
    {
     "name": "stdin",
     "output_type": "stream",
     "text": [
      " 0\n"
     ]
    },
    {
     "name": "stdout",
     "output_type": "stream",
     "text": [
      "Reward 1-5:\n"
     ]
    },
    {
     "name": "stdin",
     "output_type": "stream",
     "text": [
      " 1\n"
     ]
    }
   ],
   "source": [
    "new_user_sim = create_user()\n",
    "u_embedding = np.zeros(3 + enc.transform([[\"\"] * 5]).shape[1])\n",
    "reviews = review_map[user]\n",
    "for t in range(5):\n",
    "    inps = []\n",
    "    business_embeddings = []\n",
    "    for i, action_taken in enumerate(ca_bids):\n",
    "        if i % 1000 == 0:\n",
    "          print(i)\n",
    "        business_embedding = get_event_embedding(action_taken, enc)\n",
    "        bn = np.linalg.norm(business_embedding, ord = 2)\n",
    "        un = np.linalg.norm(u_embedding, ord = 2)\n",
    "        inp = None\n",
    "        if bn == 0 or un == 0:\n",
    "            inp = np.concatenate((new_user_sim, business_embedding, [0]))\n",
    "        else:\n",
    "            inp = np.concatenate((new_user_sim, business_embedding, [u_embedding.dot(business_embedding) / (un * bn)]))\n",
    "        inps.append(inp)\n",
    "        business_embeddings.append(business_embedding)\n",
    "    ys = treeReg5.predict(inps)\n",
    "    plt.hist(ys)\n",
    "    plt.show()\n",
    "    indices = np.argmax(ys)\n",
    "    if type(indices) is np.int64:\n",
    "        indices = [indices]\n",
    "    print('Q-Approx: ', np.max(ys))\n",
    "    print([business_map[ca_bids[x]] for x in indices])\n",
    "    print('Select a number')\n",
    "    selection = int(input())\n",
    "    print('Reward 1-5:')\n",
    "    reward = int(input())\n",
    "    business_chosen_embedding = business_embeddings[indices[selection]]\n",
    "    # next step\n",
    "    process_embedding(u_embedding, business_embedding, reward, t)\n",
    "    process_event(new_user_sim, reward, t)"
   ]
  },
  {
   "cell_type": "code",
   "execution_count": 217,
   "id": "909c0404-a686-42a2-b5e3-edb403288e8a",
   "metadata": {},
   "outputs": [
    {
     "name": "stdout",
     "output_type": "stream",
     "text": [
      "0\n",
      "1000\n",
      "2000\n",
      "3000\n",
      "4000\n",
      "5000\n"
     ]
    },
    {
     "data": {
      "image/png": "[encoded data removed]",
      "text/plain": [
       "<Figure size 432x288 with 1 Axes>"
      ]
     },
     "metadata": {
      "needs_background": "light"
     },
     "output_type": "display_data"
    },
    {
     "name": "stdout",
     "output_type": "stream",
     "text": [
      "Q-Approx:  1.702187497317791\n",
      "[business_id                                lqwbnNd_SXzkIK_pkU2FkA\n",
      "name                                                       D'Vine\n",
      "address                                    205 W Canon Perdido St\n",
      "city                                                Santa Barbara\n",
      "state                                                          CA\n",
      "postal_code                                                 93101\n",
      "latitude                                                34.418066\n",
      "longitude                                             -119.702953\n",
      "stars                                                         4.0\n",
      "review_count                                                   26\n",
      "is_open                                                         0\n",
      "attributes      {'BusinessAcceptsCreditCards': 'True', 'GoodFo...\n",
      "categories                         Sandwiches, Restaurants, Delis\n",
      "hours           {'Monday': '8:0-16:0', 'Tuesday': '8:0-16:0', ...\n",
      "Name: 29145, dtype: object]\n",
      "Select a number\n"
     ]
    },
    {
     "name": "stdin",
     "output_type": "stream",
     "text": [
      " 0\n"
     ]
    },
    {
     "name": "stdout",
     "output_type": "stream",
     "text": [
      "Reward 1-5:\n"
     ]
    },
    {
     "name": "stdin",
     "output_type": "stream",
     "text": [
      " 5\n"
     ]
    },
    {
     "name": "stdout",
     "output_type": "stream",
     "text": [
      "0\n",
      "1000\n",
      "2000\n",
      "3000\n",
      "4000\n",
      "5000\n"
     ]
    },
    {
     "data": {
      "image/png": "[encoded data removed]",
      "text/plain": [
       "<Figure size 432x288 with 1 Axes>"
      ]
     },
     "metadata": {
      "needs_background": "light"
     },
     "output_type": "display_data"
    },
    {
     "name": "stdout",
     "output_type": "stream",
     "text": [
      "Q-Approx:  6.7625\n",
      "[business_id                                znlrxrY4InSx7ekPZxoHRw\n",
      "name                                  McConnell's Fine Ice Creams\n",
      "address                                              728 State St\n",
      "city                                                Santa Barbara\n",
      "state                                                          CA\n",
      "postal_code                                                 93101\n",
      "latitude                                                34.419491\n",
      "longitude                                             -119.698774\n",
      "stars                                                         4.5\n",
      "review_count                                                 1537\n",
      "is_open                                                         1\n",
      "attributes      {'RestaurantsPriceRange2': '2', 'BusinessAccep...\n",
      "categories              Food, Ice Cream & Frozen Yogurt, Desserts\n",
      "hours           {'Monday': '0:0-0:0', 'Tuesday': '12:0-21:0', ...\n",
      "Name: 101797, dtype: object]\n",
      "Select a number\n"
     ]
    },
    {
     "name": "stdin",
     "output_type": "stream",
     "text": [
      " 0\n"
     ]
    },
    {
     "name": "stdout",
     "output_type": "stream",
     "text": [
      "Reward 1-5:\n"
     ]
    },
    {
     "name": "stdin",
     "output_type": "stream",
     "text": [
      " 4\n"
     ]
    },
    {
     "name": "stdout",
     "output_type": "stream",
     "text": [
      "0\n",
      "1000\n",
      "2000\n",
      "3000\n",
      "4000\n",
      "5000\n"
     ]
    },
    {
     "data": {
      "image/png": "[encoded data removed]",
      "text/plain": [
       "<Figure size 432x288 with 1 Axes>"
      ]
     },
     "metadata": {
      "needs_background": "light"
     },
     "output_type": "display_data"
    },
    {
     "name": "stdout",
     "output_type": "stream",
     "text": [
      "Q-Approx:  6.56375\n",
      "[business_id                                u3uB0GD7cVf5NC-AFHdwnQ\n",
      "name                                       Golden Line Coffee Bar\n",
      "address                     618 Anacapa St, Ste A, Villa Wine Bar\n",
      "city                                                Santa Barbara\n",
      "state                                                          CA\n",
      "postal_code                                                 93101\n",
      "latitude                                                34.419541\n",
      "longitude                                             -119.696359\n",
      "stars                                                         5.0\n",
      "review_count                                                   10\n",
      "is_open                                                         1\n",
      "attributes      {'RestaurantsDelivery': 'False', 'RestaurantsT...\n",
      "categories      Pop-Up Restaurants, Coffee & Tea, Food, Restau...\n",
      "hours           {'Friday': '7:30-14:0', 'Saturday': '7:30-14:0...\n",
      "Name: 44547, dtype: object]\n",
      "Select a number\n"
     ]
    },
    {
     "name": "stdin",
     "output_type": "stream",
     "text": [
      " 0\n"
     ]
    },
    {
     "name": "stdout",
     "output_type": "stream",
     "text": [
      "Reward 1-5:\n"
     ]
    },
    {
     "name": "stdin",
     "output_type": "stream",
     "text": [
      " 4\n"
     ]
    },
    {
     "name": "stdout",
     "output_type": "stream",
     "text": [
      "0\n",
      "1000\n",
      "2000\n",
      "3000\n",
      "4000\n",
      "5000\n"
     ]
    },
    {
     "data": {
      "image/png": "[encoded data removed]",
      "text/plain": [
       "<Figure size 432x288 with 1 Axes>"
      ]
     },
     "metadata": {
      "needs_background": "light"
     },
     "output_type": "display_data"
    },
    {
     "name": "stdout",
     "output_type": "stream",
     "text": [
      "Q-Approx:  7.19375\n",
      "[business_id                                VhWtlyWAH6Lw_XBXuKDWng\n",
      "name                                               LaoWang Burger\n",
      "address                                        231 S Magnolia Ave\n",
      "city                                                       Goleta\n",
      "state                                                          CA\n",
      "postal_code                                                 93117\n",
      "latitude                                                34.435829\n",
      "longitude                                             -119.827639\n",
      "stars                                                         4.5\n",
      "review_count                                                   11\n",
      "is_open                                                         0\n",
      "attributes      {'RestaurantsPriceRange2': '1', 'RestaurantsAt...\n",
      "categories      Food, Restaurants, Food Delivery Services, Chi...\n",
      "hours           {'Wednesday': '17:0-21:30', 'Thursday': '17:0-...\n",
      "Name: 51513, dtype: object]\n",
      "Select a number\n"
     ]
    },
    {
     "name": "stdin",
     "output_type": "stream",
     "text": [
      " 0\n"
     ]
    },
    {
     "name": "stdout",
     "output_type": "stream",
     "text": [
      "Reward 1-5:\n"
     ]
    },
    {
     "name": "stdin",
     "output_type": "stream",
     "text": [
      " 5\n"
     ]
    },
    {
     "name": "stdout",
     "output_type": "stream",
     "text": [
      "0\n",
      "1000\n",
      "2000\n",
      "3000\n",
      "4000\n",
      "5000\n"
     ]
    },
    {
     "data": {
      "image/png": "[encoded data removed]",
      "text/plain": [
       "<Figure size 432x288 with 1 Axes>"
      ]
     },
     "metadata": {
      "needs_background": "light"
     },
     "output_type": "display_data"
    },
    {
     "name": "stdout",
     "output_type": "stream",
     "text": [
      "Q-Approx:  6.936875\n",
      "[business_id                                u3uB0GD7cVf5NC-AFHdwnQ\n",
      "name                                       Golden Line Coffee Bar\n",
      "address                     618 Anacapa St, Ste A, Villa Wine Bar\n",
      "city                                                Santa Barbara\n",
      "state                                                          CA\n",
      "postal_code                                                 93101\n",
      "latitude                                                34.419541\n",
      "longitude                                             -119.696359\n",
      "stars                                                         5.0\n",
      "review_count                                                   10\n",
      "is_open                                                         1\n",
      "attributes      {'RestaurantsDelivery': 'False', 'RestaurantsT...\n",
      "categories      Pop-Up Restaurants, Coffee & Tea, Food, Restau...\n",
      "hours           {'Friday': '7:30-14:0', 'Saturday': '7:30-14:0...\n",
      "Name: 44547, dtype: object]\n",
      "Select a number\n"
     ]
    },
    {
     "name": "stdin",
     "output_type": "stream",
     "text": [
      " 0\n"
     ]
    },
    {
     "name": "stdout",
     "output_type": "stream",
     "text": [
      "Reward 1-5:\n"
     ]
    },
    {
     "name": "stdin",
     "output_type": "stream",
     "text": [
      " 4\n"
     ]
    }
   ],
   "source": [
    "new_user_sim = create_user()\n",
    "u_embedding = np.zeros(3 + enc.transform([[\"\"] * 5]).shape[1])\n",
    "reviews = review_map[user]\n",
    "for t in range(5):\n",
    "    inps = []\n",
    "    business_embeddings = []\n",
    "    for i, action_taken in enumerate(ca_bids):\n",
    "        if i % 1000 == 0:\n",
    "          print(i)\n",
    "        business_embedding = get_event_embedding(action_taken, enc)\n",
    "        bn = np.linalg.norm(business_embedding, ord = 2)\n",
    "        un = np.linalg.norm(u_embedding, ord = 2)\n",
    "        inp = None\n",
    "        if bn == 0 or un == 0:\n",
    "            inp = np.concatenate((new_user_sim, business_embedding, [0]))\n",
    "        else:\n",
    "            inp = np.concatenate((new_user_sim, business_embedding, [u_embedding.dot(business_embedding) / (un * bn)]))\n",
    "        inps.append(inp)\n",
    "        business_embeddings.append(business_embedding)\n",
    "    ys = treeReg5.predict(inps)\n",
    "    plt.hist(ys)\n",
    "    plt.show()\n",
    "    indices = np.argmax(ys)\n",
    "    if type(indices) is np.int64:\n",
    "        indices = [indices]\n",
    "    print('Q-Approx: ', np.max(ys))\n",
    "    print([business_map[ca_bids[x]] for x in indices])\n",
    "    print('Select a number')\n",
    "    selection = int(input())\n",
    "    print('Reward 1-5:')\n",
    "    reward = int(input())\n",
    "    business_chosen_embedding = business_embeddings[indices[selection]]\n",
    "    # next step\n",
    "    process_embedding(u_embedding, business_embedding, reward, t)\n",
    "    process_event(new_user_sim, reward, t)"
   ]
  },
  {
   "cell_type": "code",
   "execution_count": null,
   "id": "03478513-6f04-422d-9969-3b59e7153020",
   "metadata": {},
   "outputs": [],
   "source": []
  }
 ],
 "metadata": {
  "kernelspec": {
   "display_name": "recproj",
   "language": "python",
   "name": "recproj"
  },
  "language_info": {
   "codemirror_mode": {
    "name": "ipython",
    "version": 3
   },
   "file_extension": ".py",
   "mimetype": "text/x-python",
   "name": "python",
   "nbconvert_exporter": "python",
   "pygments_lexer": "ipython3",
   "version": "3.9.1"
  }
 },
 "nbformat": 4,
 "nbformat_minor": 5
}
