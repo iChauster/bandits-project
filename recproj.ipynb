{
 "cells": [
  {
   "cell_type": "markdown",
   "id": "a8ab01d8-8a1b-460a-8b22-9a674243c3c1",
   "metadata": {},
   "source": [
    "# Data Loading"
   ]
  },
  {
   "cell_type": "code",
   "execution_count": 176,
   "id": "8f0dd55b-c350-4837-b30c-26de0be84a75",
   "metadata": {},
   "outputs": [],
   "source": [
    "import pandas as pd\n",
    "import numpy as np\n",
    "\n",
    "def read_users():\n",
    "    users = {}\n",
    "    chunks = pd.read_json(\"./yelp_dataset/yelp_academic_dataset_user.json\", lines = True, chunksize = 10000)\n",
    "    for chunk in chunks:\n",
    "        for index, row in chunk.iterrows():\n",
    "            users[row['user_id']] = row\n",
    "    return users        \n",
    "users = read_users()"
   ]
  },
  {
   "cell_type": "code",
   "execution_count": 103,
   "id": "54d4d637-b7e5-471d-b879-b6076b881824",
   "metadata": {},
   "outputs": [],
   "source": [
    "from collections import defaultdict\n",
    "from dateutil import parser\n",
    "\n",
    "def get_reviews():\n",
    "    review_map = defaultdict(list)\n",
    "    average_ratings = defaultdict(list)\n",
    "    chunks = pd.read_json(\"./yelp_dataset/yelp_academic_dataset_review.json\", lines = True, chunksize = 3000)\n",
    "    for chunk in chunks:\n",
    "        for index, row in chunk.iterrows():\n",
    "            bid = row[\"business_id\"]\n",
    "            review_map[row['user_id']].append((row[\"date\"], row[\"stars\"], bid))\n",
    "            average_ratings[bid].append(int(row[\"stars\"]))\n",
    "    final_average_ratings = {}\n",
    "    for b in average_ratings.keys():\n",
    "        final_average_ratings[b] = np.mean(average_ratings[b])\n",
    "    return final_average_ratings, review_map\n",
    "    \n",
    "final_average_ratings, review_map = get_reviews()"
   ]
  },
  {
   "cell_type": "code",
   "execution_count": 406,
   "id": "2812ddcb-63d2-4786-a6b5-9eff0fde9de2",
   "metadata": {},
   "outputs": [],
   "source": [
    "from sklearn.preprocessing import OneHotEncoder\n",
    "\n",
    "def get_category_encoder():\n",
    "    chunks = pd.read_json(\"./yelp_dataset/yelp_academic_dataset_business.json\", lines = True, chunksize = 10000)\n",
    "    ohv_training = []\n",
    "    for chunk in chunks:\n",
    "        for index, row in chunk.iterrows():\n",
    "            try:\n",
    "                array = [\"\"] * 5\n",
    "                a = row[\"categories\"].split(', ')\n",
    "                for i in range(min(5, len(a))):\n",
    "                    array[i] = a[i]\n",
    "                ohv_training.append(array)\n",
    "            except AttributeError:\n",
    "                continue\n",
    "    enc = OneHotEncoder(handle_unknown=\"ignore\")\n",
    "    enc.fit(ohv_training)\n",
    "    return enc"
   ]
  },
  {
   "cell_type": "code",
   "execution_count": 407,
   "id": "770dc9d7-d0d3-4330-8bfd-f01a161d3110",
   "metadata": {},
   "outputs": [],
   "source": [
    "enc = get_category_encoder()"
   ]
  },
  {
   "cell_type": "code",
   "execution_count": 52,
   "id": "7265a46f-dca8-4407-89f7-579a93198d07",
   "metadata": {},
   "outputs": [],
   "source": [
    "def get_business_map():\n",
    "    business_map = {}\n",
    "    chunks = pd.read_json(\"./yelp_dataset/yelp_academic_dataset_business.json\", lines = True, chunksize = 3000)\n",
    "    for chunk in chunks:\n",
    "        for index, row in chunk.iterrows():\n",
    "            business_map[row[\"business_id\"]] = row\n",
    "    return business_map\n",
    "business_map = get_business_map()"
   ]
  },
  {
   "cell_type": "code",
   "execution_count": 104,
   "id": "e5ad6c9b-141f-4fed-b022-fb026ccdd0eb",
   "metadata": {},
   "outputs": [],
   "source": [
    "import pickle\n",
    "\n",
    "def dump_var(var, filename):\n",
    "    with open(filename, \"wb\") as f:\n",
    "        pickle.dump(var, f)\n",
    "\n",
    "def load_var(filename):\n",
    "    return pickle.loads(filename)\n",
    "dump_var(review_map, \"review_map.pkl\")\n",
    "# dump_var(business_map, \"business_map.pkl\")\n",
    "dump_var(final_average_ratings, \"final_average_ratings.pkl\")"
   ]
  },
  {
   "cell_type": "code",
   "execution_count": 177,
   "id": "a78d8fb6-2c4a-4588-9ee8-c7bb187b4f3d",
   "metadata": {},
   "outputs": [],
   "source": [
    "dump_var(users, \"user_map.pkl\")"
   ]
  },
  {
   "cell_type": "markdown",
   "id": "87beabeb-e6fc-4ebf-acda-75e9ccc19efc",
   "metadata": {},
   "source": [
    "## Dataset Analysis"
   ]
  },
  {
   "cell_type": "code",
   "execution_count": 287,
   "id": "cd315cc7-64c7-46ea-abf1-8ff852d6ac5f",
   "metadata": {},
   "outputs": [
    {
     "name": "stderr",
     "output_type": "stream",
     "text": [
      "/var/folders/qk/l24kr0vd3w1ccfx8ng5tp3l00000gr/T/ipykernel_9693/478392250.py:10: UserWarning: Matplotlib is currently using module://matplotlib_inline.backend_inline, which is a non-GUI backend, so cannot show the figure.\n",
      "  fig.show()\n"
     ]
    },
    {
     "data": {
      "image/png": "[encoded data removed]",
      "text/plain": [
       "<Figure size 720x360 with 1 Axes>"
      ]
     },
     "metadata": {
      "needs_background": "light"
     },
     "output_type": "display_data"
    }
   ],
   "source": [
    "import matplotlib.pyplot as plt\n",
    "n = []\n",
    "fig, ax = plt.subplots(figsize = (10 ,5))\n",
    "for key, value in review_map.items():\n",
    "    n.append(len(value))\n",
    "ax.hist(n, range = (3, 50))\n",
    "ax.set_title(\"Histogram of # of Reviews v.s Users\")\n",
    "ax.set_ylabel(\"# of Users\")\n",
    "ax.set_xlabel(\"# of Reviews\")\n",
    "fig.show()"
   ]
  },
  {
   "cell_type": "code",
   "execution_count": 111,
   "id": "ac149a52-cc63-4173-a67b-868df949b02d",
   "metadata": {},
   "outputs": [
    {
     "name": "stdout",
     "output_type": "stream",
     "text": [
      "3398408913621736\n"
     ]
    }
   ],
   "source": [
    "print(len(business_map) ** 3)"
   ]
  },
  {
   "cell_type": "code",
   "execution_count": 281,
   "id": "37a798aa-8d74-4c43-b3da-7ca1afd31a85",
   "metadata": {},
   "outputs": [
    {
     "data": {
      "text/plain": [
       "150346"
      ]
     },
     "execution_count": 281,
     "metadata": {},
     "output_type": "execute_result"
    }
   ],
   "source": [
    "len(business_map) "
   ]
  },
  {
   "cell_type": "code",
   "execution_count": 284,
   "id": "1bff8297-7c5a-462d-a0e5-e9b900a2809e",
   "metadata": {},
   "outputs": [
    {
     "data": {
      "text/plain": [
       "1987897"
      ]
     },
     "execution_count": 284,
     "metadata": {},
     "output_type": "execute_result"
    }
   ],
   "source": [
    "len(users)"
   ]
  },
  {
   "cell_type": "code",
   "execution_count": 296,
   "id": "f0a3ddf8-c181-4ce9-88f2-9dc832d7c234",
   "metadata": {},
   "outputs": [
    {
     "data": {
      "text/plain": [
       "1987929"
      ]
     },
     "execution_count": 296,
     "metadata": {},
     "output_type": "execute_result"
    }
   ],
   "source": [
    "len(review_map)"
   ]
  },
  {
   "cell_type": "code",
   "execution_count": 112,
   "id": "1b944eb0-dbce-49f5-9a42-58a53e0f6e0c",
   "metadata": {},
   "outputs": [],
   "source": [
    "state_generator = lambda s : (s[0][-1], s[1][-1], s[2][-1])\n",
    "state_distribution = defaultdict(int)\n",
    "\n",
    "total = 0\n",
    "for k, v in review_map.items():\n",
    "    if len(v) < 3:\n",
    "        continue\n",
    "    v.sort()\n",
    "    for i in range(len(v) - 2):\n",
    "        s = state_generator(v[i: i + 3])\n",
    "        total += 1\n",
    "        state_distribution[s] += 1\n",
    "for k in state_distribution.keys():\n",
    "    state_distribution[k] = state_distribution[k] / total"
   ]
  },
  {
   "cell_type": "code",
   "execution_count": 291,
   "id": "f9a650cc-b024-44f5-a225-5a8d0bdb1082",
   "metadata": {},
   "outputs": [
    {
     "data": {
      "text/plain": [
       "4144461"
      ]
     },
     "execution_count": 291,
     "metadata": {},
     "output_type": "execute_result"
    }
   ],
   "source": [
    "len(state_distribution)"
   ]
  },
  {
   "cell_type": "markdown",
   "id": "312e2281-6b1a-4ff1-b6ba-5165c053cb09",
   "metadata": {},
   "source": [
    "## Generate Data Points"
   ]
  },
  {
   "cell_type": "code",
   "execution_count": 164,
   "id": "1623c7d1-0dc6-4e11-8f3a-f3b49e186d14",
   "metadata": {},
   "outputs": [],
   "source": [
    "def true_q_func(sequence, gamma = 0.5):\n",
    "    reward = np.sum([(gamma ** i) * int(v[1]) for i, v in enumerate(sequence)])\n",
    "    return reward"
   ]
  },
  {
   "cell_type": "code",
   "execution_count": 165,
   "id": "0d745dca-e6de-456a-a58b-998a4a7929e2",
   "metadata": {},
   "outputs": [],
   "source": [
    "def create_data_points():\n",
    "    data_points = [] # (user, last three events, action), q_value\n",
    "    for user, reviews in review_map.items():\n",
    "        reviews.sort()\n",
    "        state = (0,0,0)\n",
    "        for i, review in enumerate(reviews):\n",
    "            q_value = true_q_func(reviews[i:])\n",
    "            data_points.append(((user, state, review[-1]), q_value))\n",
    "            state = (state[1], state[2], review[-1])\n",
    "    return data_points\n",
    "data_points = create_data_points()"
   ]
  },
  {
   "cell_type": "code",
   "execution_count": 169,
   "id": "ef128d33-f4bd-4cdf-8575-1890a3f6ab10",
   "metadata": {},
   "outputs": [],
   "source": [
    "dump_var(data_points, \"data_points.pkl\")"
   ]
  },
  {
   "cell_type": "markdown",
   "id": "06c459fd-101a-4c15-87ae-c3acab10bfb7",
   "metadata": {},
   "source": [
    "## State Engineering + Regression"
   ]
  },
  {
   "cell_type": "markdown",
   "id": "c2e5411d-b116-4cfa-a465-ca503f3d887c",
   "metadata": {},
   "source": [
    "## User Only, User and Business\n",
    "Generating states from hand-picked items."
   ]
  },
  {
   "cell_type": "code",
   "execution_count": 299,
   "id": "831da526-d4dc-4b9c-9e54-037efb471cec",
   "metadata": {},
   "outputs": [],
   "source": [
    "def user_only(user_id, state, action_taken):\n",
    "    user = users[user_id]\n",
    "    compliment_data = user.filter(regex=\"compliment*\")\n",
    "    v = compliment_data.to_numpy(dtype = int)\n",
    "    return np.concatenate((v, [int(user[\"review_count\"]), float(user[\"average_stars\"]), len(user[\"friends\"])]))\n",
    "\n",
    "def user_and_business(user_id, state, action_taken):\n",
    "    user = users[user_id]\n",
    "    business = business_map[action_taken]\n",
    "    user_vec = user_only(user_id, state, action_taken)\n",
    "    business_vec = np.array([business[\"stars\"], business[\"review_count\"], business[\"is_open\"]], dtype = float)\n",
    "    return np.concatenate((user_vec, business_vec))\n",
    "    \n",
    "def user_and_business_abbreviate_history(user_id, state, action_taken):\n",
    "    user = users[user_id]\n",
    "    business = business_map[action_taken]\n",
    "    print(user)\n",
    "    print(business)\n",
    "    \n",
    "def generate_regression_dataset(f, num_points, dataset):\n",
    "    x_array = []\n",
    "    y_array = []\n",
    "    if num_points >= 0:\n",
    "        dataset_indices = np.random.choice(dataset.shape[0], size = num_points, replace = True) \n",
    "    else:\n",
    "        dataset_indices = np.arange(dataset.shape[0])\n",
    "    for dp in dataset[dataset_indices]:\n",
    "        try:\n",
    "            q_value = dp[1]\n",
    "            x = f(*dp[0])\n",
    "            x_array.append(x)\n",
    "            y_array.append(q_value)\n",
    "        except KeyError as e:\n",
    "            print('KeyError: ', e)\n",
    "            continue\n",
    "    return x_array, y_array"
   ]
  },
  {
   "cell_type": "code",
   "execution_count": 300,
   "id": "b527e069-e92c-44a6-ad5d-e0bf611e8186",
   "metadata": {},
   "outputs": [
    {
     "name": "stdout",
     "output_type": "stream",
     "text": [
      "user_id                                          Cvi8nZTwDVaQkqmmgQwQMw\n",
      "name                                                              Diana\n",
      "review_count                                                        320\n",
      "yelping_since                                       2010-11-04 15:16:49\n",
      "useful                                                              505\n",
      "funny                                                               137\n",
      "cool                                                                235\n",
      "elite                                     2012,2013,2014,2015,2016,2017\n",
      "friends               AVEJb-lCEY_WPExMoBr65g, wWyR5AdkPNwxEBZhYCGiFA...\n",
      "fans                                                                 28\n",
      "average_stars                                                      4.05\n",
      "compliment_hot                                                       26\n",
      "compliment_more                                                       2\n",
      "compliment_profile                                                    1\n",
      "compliment_cute                                                       0\n",
      "compliment_list                                                       0\n",
      "compliment_note                                                       6\n",
      "compliment_plain                                                     24\n",
      "compliment_cool                                                      25\n",
      "compliment_funny                                                     25\n",
      "compliment_writer                                                    18\n",
      "compliment_photos                                                     3\n",
      "Name: 35581, dtype: object\n",
      "business_id                                dHFEcHJG2LmPBJ0X2cfj7Q\n",
      "name                                                     Stargazy\n",
      "address                                       1838 E Passyunk Ave\n",
      "city                                                 Philadelphia\n",
      "state                                                          PA\n",
      "postal_code                                                 19148\n",
      "latitude                                                39.926769\n",
      "longitude                                              -75.167358\n",
      "stars                                                         4.5\n",
      "review_count                                                  164\n",
      "is_open                                                         1\n",
      "attributes      {'OutdoorSeating': 'False', 'BusinessAcceptsCr...\n",
      "categories                   Restaurants, British, Food, Bakeries\n",
      "hours           {'Wednesday': '12:0-16:0', 'Thursday': '12:0-1...\n",
      "Name: 59879, dtype: object\n"
     ]
    }
   ],
   "source": [
    "a, b = generate_regression_dataset(user_and_business_abbreviate_history, 1, np.array(data_points, dtype=object))"
   ]
  },
  {
   "cell_type": "markdown",
   "id": "fc2b42c3-3c64-4b92-b3c7-8bd9c1e1d8ec",
   "metadata": {},
   "source": [
    "### Dataset Generation"
   ]
  },
  {
   "cell_type": "code",
   "execution_count": 245,
   "id": "f4735abb-9d81-4387-8daf-4c41dc0fe967",
   "metadata": {
    "collapsed": true,
    "jupyter": {
     "outputs_hidden": true
    },
    "tags": []
   },
   "outputs": [
    {
     "name": "stdout",
     "output_type": "stream",
     "text": [
      "KeyError:  'tquAg8GqbhN5k6Hkd23M0A'\n",
      "KeyError:  '5iBVQ3OeK8lV4Z_4PXc1Xw'\n",
      "KeyError:  'u8cq-5zzD7dPSa3LR8rIMw'\n",
      "KeyError:  '433BzxUeQAmRmK0g06UAfA'\n",
      "KeyError:  'dWZlWFtsEXFVq_vulT00lA'\n",
      "KeyError:  'sxxnBQb15fOyg30JInIKqw'\n",
      "KeyError:  'MaengE6zJ6k_d5e6nwnVaA'\n",
      "KeyError:  '5XiPz5mJK_RtJQVkXIqxYg'\n",
      "KeyError:  'I200IyE9DCxJvvof2wnO6A'\n",
      "KeyError:  'G0PWeUgNeGDobntevJlJ1g'\n",
      "KeyError:  '0oMk8hhMqiSt4G1BJjjG6g'\n",
      "KeyError:  'vq2H7lJ73VwXMDqC8DiImw'\n",
      "KeyError:  'lzpM_Vf2rKA4ivGtAIOH4w'\n",
      "KeyError:  'lzpM_Vf2rKA4ivGtAIOH4w'\n",
      "KeyError:  'qH_QwXBgA4Z7WyCjtwRi2A'\n",
      "KeyError:  '3N6-acEgosQSbipmBZKoSg'\n",
      "KeyError:  'ufZfni7nb_KdJC6DXNfVHQ'\n",
      "KeyError:  'VTfl9PALOCiGV8SUBpCZEQ'\n",
      "KeyError:  'UwaRBUSj45sE9_kAnaGggw'\n",
      "KeyError:  'AQnEwfNAgdxqRWpia__syA'\n",
      "KeyError:  '77n3enAMdlka0pZ82GT9VQ'\n",
      "KeyError:  'NCeW1I6C4K7qhY4kRH8cOA'\n",
      "KeyError:  'I6tb6vPxJ8Tct79JgqIDrQ'\n",
      "KeyError:  'U76IFozArZsShdmoIdDMUw'\n",
      "KeyError:  'QLU-88WwG4hKj6jKSR8iig'\n",
      "KeyError:  'EkUWydx3bJmiMWOBmdVf4Q'\n",
      "KeyError:  'OxvEeexqWWeWkPwkKtTy2Q'\n",
      "KeyError:  '5-L9Oo6PyUiBjeqj1GsJyQ'\n",
      "KeyError:  '4bqSo-Xfd8Yu5BMDsd947Q'\n",
      "KeyError:  'PCS3F53ltR_svcnncSw6pw'\n",
      "KeyError:  'Qt6BEJjT05S-HCYKIS45dQ'\n",
      "KeyError:  'b4QR6E98D4-xYBNFPWZEvg'\n",
      "KeyError:  'I6G8wz_LD_8IsCPxvjs8SQ'\n"
     ]
    }
   ],
   "source": [
    "test_x_u, test_y_u = generate_regression_dataset(user_only, -1, np.array(data_points, dtype=object))"
   ]
  },
  {
   "cell_type": "code",
   "execution_count": 270,
   "id": "7cbf0935-a863-4504-8aae-d80385a0577e",
   "metadata": {},
   "outputs": [
    {
     "name": "stdout",
     "output_type": "stream",
     "text": [
      "KeyError:  'tquAg8GqbhN5k6Hkd23M0A'\n",
      "KeyError:  '5iBVQ3OeK8lV4Z_4PXc1Xw'\n",
      "KeyError:  'u8cq-5zzD7dPSa3LR8rIMw'\n",
      "KeyError:  '433BzxUeQAmRmK0g06UAfA'\n",
      "KeyError:  'dWZlWFtsEXFVq_vulT00lA'\n",
      "KeyError:  'sxxnBQb15fOyg30JInIKqw'\n",
      "KeyError:  'MaengE6zJ6k_d5e6nwnVaA'\n",
      "KeyError:  '5XiPz5mJK_RtJQVkXIqxYg'\n",
      "KeyError:  'I200IyE9DCxJvvof2wnO6A'\n",
      "KeyError:  'G0PWeUgNeGDobntevJlJ1g'\n",
      "KeyError:  '0oMk8hhMqiSt4G1BJjjG6g'\n",
      "KeyError:  'vq2H7lJ73VwXMDqC8DiImw'\n",
      "KeyError:  'lzpM_Vf2rKA4ivGtAIOH4w'\n",
      "KeyError:  'lzpM_Vf2rKA4ivGtAIOH4w'\n",
      "KeyError:  'qH_QwXBgA4Z7WyCjtwRi2A'\n",
      "KeyError:  '3N6-acEgosQSbipmBZKoSg'\n",
      "KeyError:  'ufZfni7nb_KdJC6DXNfVHQ'\n",
      "KeyError:  'VTfl9PALOCiGV8SUBpCZEQ'\n",
      "KeyError:  'UwaRBUSj45sE9_kAnaGggw'\n",
      "KeyError:  'AQnEwfNAgdxqRWpia__syA'\n",
      "KeyError:  '77n3enAMdlka0pZ82GT9VQ'\n",
      "KeyError:  'NCeW1I6C4K7qhY4kRH8cOA'\n",
      "KeyError:  'I6tb6vPxJ8Tct79JgqIDrQ'\n",
      "KeyError:  'U76IFozArZsShdmoIdDMUw'\n",
      "KeyError:  'QLU-88WwG4hKj6jKSR8iig'\n",
      "KeyError:  'EkUWydx3bJmiMWOBmdVf4Q'\n",
      "KeyError:  'OxvEeexqWWeWkPwkKtTy2Q'\n",
      "KeyError:  '5-L9Oo6PyUiBjeqj1GsJyQ'\n",
      "KeyError:  '4bqSo-Xfd8Yu5BMDsd947Q'\n",
      "KeyError:  'PCS3F53ltR_svcnncSw6pw'\n",
      "KeyError:  'Qt6BEJjT05S-HCYKIS45dQ'\n",
      "KeyError:  'b4QR6E98D4-xYBNFPWZEvg'\n",
      "KeyError:  'I6G8wz_LD_8IsCPxvjs8SQ'\n"
     ]
    }
   ],
   "source": [
    "test_x_ub, test_y_ub = generate_regression_dataset(user_and_business, -1, np.array(data_points, dtype=object))"
   ]
  },
  {
   "cell_type": "markdown",
   "id": "fa87dcc4-c38a-4397-ac71-996fef896dd7",
   "metadata": {},
   "source": [
    "### Linear Regression"
   ]
  },
  {
   "cell_type": "code",
   "execution_count": 263,
   "id": "65e2ff56-d2d5-41f3-a6d6-176c2edea999",
   "metadata": {},
   "outputs": [
    {
     "name": "stdout",
     "output_type": "stream",
     "text": [
      "KeyError:  'OxvEeexqWWeWkPwkKtTy2Q'\n",
      "KeyError:  'EkUWydx3bJmiMWOBmdVf4Q'\n"
     ]
    }
   ],
   "source": [
    "from sklearn.linear_model import LinearRegression\n",
    "\n",
    "x, y = generate_regression_dataset(user_only, 400000, np.array(data_points, dtype=object))"
   ]
  },
  {
   "cell_type": "code",
   "execution_count": 264,
   "id": "bbd25b01-e604-4589-a100-8d226d328b47",
   "metadata": {},
   "outputs": [
    {
     "name": "stdout",
     "output_type": "stream",
     "text": [
      "KeyError:  'QLU-88WwG4hKj6jKSR8iig'\n",
      "KeyError:  'vq2H7lJ73VwXMDqC8DiImw'\n"
     ]
    }
   ],
   "source": [
    "x2, y2 = generate_regression_dataset(user_and_business, 400000, np.array(data_points, dtype=object))"
   ]
  },
  {
   "cell_type": "code",
   "execution_count": 267,
   "id": "8d5f30d1-fcf5-46cb-91ff-e8a131531a11",
   "metadata": {},
   "outputs": [
    {
     "name": "stdout",
     "output_type": "stream",
     "text": [
      "Lin reg score: 0.3089016218625674\n"
     ]
    },
    {
     "data": {
      "text/plain": [
       "1.722623391175773"
      ]
     },
     "execution_count": 267,
     "metadata": {},
     "output_type": "execute_result"
    }
   ],
   "source": [
    "from sklearn.tree import DecisionTreeRegressor\n",
    "\n",
    "reg = LinearRegression().fit(x,y)\n",
    "\n",
    "linreg_score = reg.score(test_x_u, test_y_u)\n",
    "print('Lin reg score:', linreg_score)\n",
    "mean_absolute_error(reg.predict(test_x_u), test_y_u)"
   ]
  },
  {
   "cell_type": "code",
   "execution_count": 301,
   "id": "1a0baac2-6d25-4c3d-a515-42a6f1360f1f",
   "metadata": {},
   "outputs": [
    {
     "name": "stdout",
     "output_type": "stream",
     "text": [
      "Lin Reg 2 0.3459687525794034\n"
     ]
    },
    {
     "data": {
      "text/plain": [
       "1.6703020357226976"
      ]
     },
     "execution_count": 301,
     "metadata": {},
     "output_type": "execute_result"
    }
   ],
   "source": [
    "reg2 = LinearRegression().fit(x2,y2)\n",
    "s = reg2.score(test_x_ub,test_y_ub)\n",
    "print('Lin Reg 2', s)\n",
    "mean_absolute_error(reg2.predict(test_x_ub), test_y_ub)"
   ]
  },
  {
   "cell_type": "markdown",
   "id": "84f09dd1-8f7c-4ac0-97fc-2bec4bcf17e9",
   "metadata": {},
   "source": [
    "## Decision Tree Regression"
   ]
  },
  {
   "cell_type": "code",
   "execution_count": 320,
   "id": "84adbbd3-69a4-4943-9786-4b877e29b57b",
   "metadata": {},
   "outputs": [
    {
     "name": "stdout",
     "output_type": "stream",
     "text": [
      "Tree reg score: 0.22462280173713833\n"
     ]
    },
    {
     "data": {
      "text/plain": [
       "1.6041770380986538"
      ]
     },
     "execution_count": 320,
     "metadata": {},
     "output_type": "execute_result"
    }
   ],
   "source": [
    "treeReg = DecisionTreeRegressor().fit(x,y)\n",
    "treereg_score = treeReg.score(test_x_u, test_y_u)\n",
    "print('Tree reg score:', treereg_score)\n",
    "mean_absolute_error(treeReg.predict(test_x_u), test_y_u)"
   ]
  },
  {
   "cell_type": "code",
   "execution_count": 323,
   "id": "fdac6a66-d320-4150-9d20-a5be0e9025e7",
   "metadata": {},
   "outputs": [
    {
     "name": "stdout",
     "output_type": "stream",
     "text": [
      "Tree reg score: 0.05497401713745864\n"
     ]
    },
    {
     "data": {
      "text/plain": [
       "1.7392769266569104"
      ]
     },
     "execution_count": 323,
     "metadata": {},
     "output_type": "execute_result"
    }
   ],
   "source": [
    "treeReg2 = DecisionTreeRegressor().fit(x2,y2)\n",
    "treereg_score = treeReg2.score(test_x_ub, test_y_ub)\n",
    "print('Tree reg score:', treereg_score)\n",
    "mean_absolute_error(treeReg2.predict(test_x_ub), test_y_ub)"
   ]
  },
  {
   "cell_type": "code",
   "execution_count": 325,
   "id": "df8f19eb-0681-424c-b803-a7f472eaa2de",
   "metadata": {},
   "outputs": [
    {
     "name": "stdout",
     "output_type": "stream",
     "text": [
      "Random Tree reg score: 0.4950274063402891\n"
     ]
    },
    {
     "data": {
      "text/plain": [
       "1.3512694668053373"
      ]
     },
     "execution_count": 325,
     "metadata": {},
     "output_type": "execute_result"
    }
   ],
   "source": [
    "from sklearn.ensemble import RandomForestRegressor\n",
    "\n",
    "treeReg3 = RandomForestRegressor().fit(x2,y2)\n",
    "treereg_score = treeReg3.score(test_x_ub, test_y_ub)\n",
    "print('Random Tree reg score:', treereg_score)\n",
    "mean_absolute_error(treeReg3.predict(test_x_ub), test_y_ub)"
   ]
  },
  {
   "cell_type": "code",
   "execution_count": 321,
   "id": "88a82010-d06a-41be-b1d0-84c0bf7041d8",
   "metadata": {},
   "outputs": [
    {
     "data": {
      "text/plain": [
       "array([0.01427906, 0.01375113, 0.00616916, 0.0042099 , 0.0016324 ,\n",
       "       0.02101875, 0.02840724, 0.01811108, 0.01012584, 0.01545495,\n",
       "       0.01211113, 0.18947184, 0.53961843, 0.12563908])"
      ]
     },
     "execution_count": 321,
     "metadata": {},
     "output_type": "execute_result"
    }
   ],
   "source": [
    "treeReg.feature_importances_"
   ]
  },
  {
   "cell_type": "code",
   "execution_count": 324,
   "id": "72d484a3-bedf-4d78-84b5-88beb93726cd",
   "metadata": {},
   "outputs": [
    {
     "data": {
      "text/plain": [
       "array([0.01088137, 0.01020569, 0.00473967, 0.00317507, 0.00164074,\n",
       "       0.02331206, 0.02182258, 0.01511193, 0.00837274, 0.01423636,\n",
       "       0.00990511, 0.14490454, 0.42605763, 0.0822165 , 0.05426982,\n",
       "       0.15773578, 0.01141241])"
      ]
     },
     "execution_count": 324,
     "metadata": {},
     "output_type": "execute_result"
    }
   ],
   "source": [
    "treeReg2.feature_importances_"
   ]
  },
  {
   "cell_type": "code",
   "execution_count": 326,
   "id": "0cb034f4-9fd3-459b-8e12-6a49dad9bcac",
   "metadata": {},
   "outputs": [
    {
     "data": {
      "text/plain": [
       "array([0.0110657 , 0.01025578, 0.00485753, 0.00333844, 0.00160552,\n",
       "       0.02640314, 0.02145573, 0.01000339, 0.01022368, 0.01408996,\n",
       "       0.009931  , 0.14791361, 0.42758416, 0.08109265, 0.05593868,\n",
       "       0.15315574, 0.0110853 ])"
      ]
     },
     "execution_count": 326,
     "metadata": {},
     "output_type": "execute_result"
    }
   ],
   "source": [
    "treeReg3.feature_importances_"
   ]
  },
  {
   "cell_type": "code",
   "execution_count": 328,
   "id": "392cf378-d1ae-4019-b0fc-7cb5a9f6d883",
   "metadata": {},
   "outputs": [
    {
     "name": "stderr",
     "output_type": "stream",
     "text": [
      "/var/folders/qk/l24kr0vd3w1ccfx8ng5tp3l00000gr/T/ipykernel_9693/1763310551.py:8: UserWarning: Matplotlib is currently using module://matplotlib_inline.backend_inline, which is a non-GUI backend, so cannot show the figure.\n",
      "  fig.show()\n"
     ]
    },
    {
     "data": {
      "image/png": "[encoded data removed]",
      "text/plain": [
       "<Figure size 720x360 with 1 Axes>"
      ]
     },
     "metadata": {
      "needs_background": "light"
     },
     "output_type": "display_data"
    }
   ],
   "source": [
    "fig, ax = plt.subplots(figsize=(10,5))\n",
    "ax.hist(test_y_ub, alpha = 0.8, label = \"Truth\")\n",
    "ax.hist(treeReg3.predict(test_x_ub), alpha = 0.8, label = \"Predicted\")\n",
    "ax.set_title(\"Prediction vs. Truth Distributions\")\n",
    "ax.set_xlabel(\"Count\")\n",
    "ax.set_ylabel(\"Rating\")\n",
    "ax.legend()\n",
    "fig.show()"
   ]
  },
  {
   "cell_type": "code",
   "execution_count": 316,
   "id": "0fa1e70e-9629-43c5-984c-0cef66c09883",
   "metadata": {},
   "outputs": [
    {
     "data": {
      "text/plain": [
       "2.079455566227805"
      ]
     },
     "execution_count": 316,
     "metadata": {},
     "output_type": "execute_result"
    }
   ],
   "source": [
    "a = np.array(test_y_u)\n",
    "np.sum(np.abs(a - np.mean(a))) / a.shape[0]"
   ]
  },
  {
   "cell_type": "code",
   "execution_count": null,
   "id": "d274eaf6-5d36-4df7-b48b-d7f1dbbff0b0",
   "metadata": {},
   "outputs": [],
   "source": []
  }
 ],
 "metadata": {
  "kernelspec": {
   "display_name": "recproj",
   "language": "python",
   "name": "recproj"
  },
  "language_info": {
   "codemirror_mode": {
    "name": "ipython",
    "version": 3
   },
   "file_extension": ".py",
   "mimetype": "text/x-python",
   "name": "python",
   "nbconvert_exporter": "python",
   "pygments_lexer": "ipython3",
   "version": "3.9.1"
  }
 },
 "nbformat": 4,
 "nbformat_minor": 5
}
